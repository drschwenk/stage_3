{
 "cells": [
  {
   "cell_type": "markdown",
   "metadata": {
    "heading_collapsed": true
   },
   "source": [
    "# Table of Contents\n",
    "* [1. Stage 3 - load data](#1.-Stage-3---load-data)\n",
    "* [2. process data](#2.-process-data)\n",
    "* [3. region experiment](#3.-region-experiment)\n",
    "* [4. parsing experiments](#4.-parsing-experiments)\n",
    "\t* [combined](#combined)\n",
    "\t* [hide](#hide)\n",
    "\t\t* [insert coref sample](#insert-coref-sample)\n",
    "\t* [pos tagging](#pos-tagging)\n",
    "\t* [np chunks](#np-chunks)\n",
    "\t* [const parse](#const-parse)\n",
    "\t\t* [hide](#hide)\n",
    "\t* [coref](#coref)\n"
   ]
  },
  {
   "cell_type": "code",
   "execution_count": 4,
   "metadata": {
    "collapsed": true,
    "hidden": true,
    "run_control": {
     "frozen": false,
     "read_only": false
    }
   },
   "outputs": [],
   "source": [
    "%%capture\n",
    "from __future__ import division\n",
    "import numpy as np\n",
    "import pandas as pd\n",
    "import scipy.stats as st\n",
    "import itertools\n",
    "import math\n",
    "from collections import Counter, defaultdict\n",
    "%load_ext autoreload\n",
    "%autoreload 2\n",
    "\n",
    "import matplotlib as mpl\n",
    "mpl.use(\"Agg\")\n",
    "import matplotlib.pylab as plt\n",
    "#%matplotlib notebook\n",
    "%matplotlib inline\n",
    "%load_ext base16_mplrc\n",
    "%base16_mplrc light solarized\n",
    "plt.rcParams['figure.figsize'] = (20.0, 10.0)\n",
    "\n",
    "import re\n",
    "import pickle\n",
    "import boto\n",
    "from copy import deepcopy\n",
    "import json\n",
    "import os\n",
    "import random\n",
    "import jinja2\n",
    "from tqdm import tqdm\n",
    "from IPython.core.display import HTML\n",
    "\n",
    "import PIL.Image as Image\n",
    "import requests\n",
    "\n",
    "from boto.mturk.qualification import PercentAssignmentsApprovedRequirement, Qualifications, Requirement\n",
    "\n",
    "from keysTkingdom import mturk_ai2\n",
    "from keysTkingdom import aws_tokes\n",
    "from keysTkingdom import mturk_aristo\n",
    "\n",
    "from amt_utils.mturk import pickle_this, unpickle_this\n",
    "\n",
    "import os\n",
    "import jinja2\n",
    "import argparse\n",
    "from jinja2 import Environment, FileSystemLoader\n",
    "\n",
    "j2env = jinja2.Environment()\n",
    "\n",
    "from amt_utils.bboxes import cluster_from_nms\n",
    "from amt_utils.bboxes import draw_animation_seq\n",
    "from amt_utils.bboxes import cluster_from_annos\n",
    "from amt_utils.bboxes import create_subtask_data\n",
    "from amt_utils.bboxes import draw_image_and_labels\n",
    "from amt_utils.bboxes import select_labels\n",
    "from amt_utils.bboxes import cluster_and_label\n",
    "import warnings\n",
    "warnings.filterwarnings('ignore')"
   ]
  },
  {
   "cell_type": "code",
   "execution_count": 5,
   "metadata": {
    "collapsed": true,
    "hidden": true,
    "run_control": {
     "frozen": false,
     "read_only": false
    }
   },
   "outputs": [],
   "source": [
    "import ai2.vision.utils as ai2vu"
   ]
  },
  {
   "cell_type": "markdown",
   "metadata": {
    "heading_collapsed": true
   },
   "source": [
    "# 1. Stage 3 - load data"
   ]
  },
  {
   "cell_type": "code",
   "execution_count": 6,
   "metadata": {
    "hidden": true,
    "run_control": {
     "frozen": false,
     "read_only": false
    }
   },
   "outputs": [],
   "source": [
    "data_file_path = '../../build_dataset/pickled_data/dataset_v0p1.pkl'\n",
    "ds_stage_1 = unpickle_this(data_file_path)"
   ]
  },
  {
   "cell_type": "code",
   "execution_count": 7,
   "metadata": {
    "hidden": true,
    "run_control": {
     "frozen": false,
     "read_only": false
    }
   },
   "outputs": [],
   "source": [
    "stage_3b_beta_1_res = unpickle_this('stage_3b_beta_1.pkl')"
   ]
  },
  {
   "cell_type": "code",
   "execution_count": 8,
   "metadata": {
    "hidden": true,
    "run_control": {
     "frozen": false,
     "read_only": false
    }
   },
   "outputs": [],
   "source": [
    "stage_3b_beta_2_res = unpickle_this('stage_3b_beta2_results.pkl')"
   ]
  },
  {
   "cell_type": "code",
   "execution_count": 9,
   "metadata": {
    "collapsed": true,
    "hidden": true,
    "run_control": {
     "frozen": false,
     "read_only": false
    }
   },
   "outputs": [],
   "source": [
    "stage_3b_beta_locs = unpickle_this('stage3_prod1_settings.pkl')"
   ]
  },
  {
   "cell_type": "code",
   "execution_count": 10,
   "metadata": {
    "collapsed": true,
    "hidden": true,
    "run_control": {
     "frozen": false,
     "read_only": false
    }
   },
   "outputs": [],
   "source": [
    "stage_3b_beta_3_res = unpickle_this('stage_3b_beta3_results.pkl')"
   ]
  },
  {
   "cell_type": "code",
   "execution_count": 11,
   "metadata": {
    "collapsed": true,
    "hidden": true,
    "run_control": {
     "frozen": false,
     "read_only": false
    }
   },
   "outputs": [],
   "source": [
    "stage_3b_prod1_res = unpickle_this('stage_3b_prod1_results.pkl')"
   ]
  },
  {
   "cell_type": "code",
   "execution_count": 12,
   "metadata": {
    "collapsed": true,
    "hidden": true,
    "run_control": {
     "frozen": false,
     "read_only": false
    }
   },
   "outputs": [],
   "source": [
    "stage_3b_prod2_res = unpickle_this('recent_results_9_13.pkl')"
   ]
  },
  {
   "cell_type": "code",
   "execution_count": 13,
   "metadata": {
    "collapsed": true,
    "hidden": true,
    "run_control": {
     "frozen": false,
     "read_only": false
    }
   },
   "outputs": [],
   "source": [
    "ds_by_frame = {anno['globalID']: anno for anno in ds_stage_1}"
   ]
  },
  {
   "cell_type": "markdown",
   "metadata": {
    "heading_collapsed": true
   },
   "source": [
    "# 2. process data"
   ]
  },
  {
   "cell_type": "code",
   "execution_count": 14,
   "metadata": {
    "code_folding": [],
    "collapsed": true,
    "hidden": true,
    "run_control": {
     "frozen": false,
     "read_only": false
    }
   },
   "outputs": [],
   "source": [
    "def create_result(assmt):\n",
    "    result = {}\n",
    "    try:\n",
    "        raw_result = json.loads(assmt.answers[0][0].fields[0])\n",
    "        result['gif_uri'] = raw_result[0]['image_url']\n",
    "        result['image_id'] = raw_result[0]['image_url'].rsplit('/', maxsplit=1)[-1][:-4]\n",
    "    #     result['setting_description'] = raw_result[0]['description']\n",
    "        result['action_description'] = raw_result[0]['description']\n",
    "        result['asgmt_id'] = assmt.AssignmentId\n",
    "        result['hit_id'] = assmt.HITId\n",
    "        result['worker_id'] = assmt.WorkerId\n",
    "        return result\n",
    "    except json.JSONDecodeError:\n",
    "        return None"
   ]
  },
  {
   "cell_type": "code",
   "execution_count": 15,
   "metadata": {
    "collapsed": true,
    "hidden": true,
    "run_control": {
     "frozen": false,
     "read_only": false
    }
   },
   "outputs": [],
   "source": [
    "s3_base_path = 'https://s3-us-west-2.amazonaws.com/ai2-vision-animation-gan/annotation_data/still_frames/'"
   ]
  },
  {
   "cell_type": "code",
   "execution_count": 16,
   "metadata": {
    "hidden": true,
    "run_control": {
     "frozen": false,
     "read_only": false
    }
   },
   "outputs": [
    {
     "data": {
      "text/plain": [
       "[<boto.mturk.connection.Assignment at 0x112c44390>]"
      ]
     },
     "execution_count": 16,
     "metadata": {},
     "output_type": "execute_result"
    }
   ],
   "source": [
    "stage_3b_prod2_res[0]"
   ]
  },
  {
   "cell_type": "code",
   "execution_count": 17,
   "metadata": {
    "collapsed": true,
    "hidden": true,
    "run_control": {
     "frozen": false,
     "read_only": false
    }
   },
   "outputs": [],
   "source": [
    "turk_data = list(stage_3b_prod1_res.values()) + stage_3b_prod2_res"
   ]
  },
  {
   "cell_type": "code",
   "execution_count": 18,
   "metadata": {
    "collapsed": true,
    "hidden": true,
    "run_control": {
     "frozen": false,
     "read_only": false
    }
   },
   "outputs": [],
   "source": [
    "assignments =[]\n",
    "for assignment_triple in list(turk_data):\n",
    "    assignments.extend(assignment_triple)\n",
    "\n",
    "assignment_results = [create_result(ar) for ar in assignments]"
   ]
  },
  {
   "cell_type": "code",
   "execution_count": 19,
   "metadata": {
    "collapsed": true,
    "hidden": true,
    "run_control": {
     "frozen": false,
     "read_only": false
    }
   },
   "outputs": [],
   "source": [
    "assignment_results = [a for a in assignment_results if a]"
   ]
  },
  {
   "cell_type": "code",
   "execution_count": 20,
   "metadata": {
    "hidden": true,
    "run_control": {
     "frozen": false,
     "read_only": false
    }
   },
   "outputs": [
    {
     "data": {
      "text/plain": [
       "8504"
      ]
     },
     "execution_count": 20,
     "metadata": {},
     "output_type": "execute_result"
    }
   ],
   "source": [
    "len(assignment_results)"
   ]
  },
  {
   "cell_type": "code",
   "execution_count": 21,
   "metadata": {
    "collapsed": true,
    "hidden": true,
    "run_control": {
     "frozen": false,
     "read_only": false
    }
   },
   "outputs": [],
   "source": [
    "st3_df = pd.DataFrame(assignment_results)\n",
    "setting_lookup = st3_df['action_description']\n",
    "setting_lookup.index = st3_df['image_id']"
   ]
  },
  {
   "cell_type": "code",
   "execution_count": 22,
   "metadata": {
    "hidden": true,
    "run_control": {
     "frozen": false,
     "read_only": false
    }
   },
   "outputs": [
    {
     "data": {
      "text/plain": [
       "(8504, 6)"
      ]
     },
     "execution_count": 22,
     "metadata": {},
     "output_type": "execute_result"
    }
   ],
   "source": [
    "st3_df.shape"
   ]
  },
  {
   "cell_type": "code",
   "execution_count": 23,
   "metadata": {
    "hidden": true,
    "run_control": {
     "frozen": false,
     "read_only": false
    },
    "scrolled": true
   },
   "outputs": [
    {
     "data": {
      "text/html": [
       "<div>\n",
       "<style>\n",
       "    .dataframe thead tr:only-child th {\n",
       "        text-align: right;\n",
       "    }\n",
       "\n",
       "    .dataframe thead th {\n",
       "        text-align: left;\n",
       "    }\n",
       "\n",
       "    .dataframe tbody tr th {\n",
       "        vertical-align: top;\n",
       "    }\n",
       "</style>\n",
       "<table border=\"1\" class=\"dataframe\">\n",
       "  <thead>\n",
       "    <tr style=\"text-align: right;\">\n",
       "      <th></th>\n",
       "      <th>action_description</th>\n",
       "      <th>asgmt_id</th>\n",
       "      <th>gif_uri</th>\n",
       "      <th>hit_id</th>\n",
       "      <th>image_id</th>\n",
       "      <th>worker_id</th>\n",
       "    </tr>\n",
       "  </thead>\n",
       "  <tbody>\n",
       "    <tr>\n",
       "      <th>0</th>\n",
       "      <td>Barney is scared by a large orange claw coming...</td>\n",
       "      <td>3BV8HQ2ZZX1SJVMTX82JWO3U1WP6A9</td>\n",
       "      <td>https://s3-us-west-2.amazonaws.com/ai2-vision-...</td>\n",
       "      <td>3EAWOID6MUXEAO5IGC8WUQCVMPG0VO</td>\n",
       "      <td>s_05_e_09_shot_032756_032830</td>\n",
       "      <td>A1B22TUTP9XR1D</td>\n",
       "    </tr>\n",
       "    <tr>\n",
       "      <th>1</th>\n",
       "      <td>Old Sheriff man is sitting at a table in the d...</td>\n",
       "      <td>3TMFV4NEP9ECUM8KRSV9YRWCZAFW8T</td>\n",
       "      <td>https://s3-us-west-2.amazonaws.com/ai2-vision-...</td>\n",
       "      <td>3OB6JN3A9RPJKVV8WXQKRQU54M5MRT</td>\n",
       "      <td>s_02_e_02_shot_010182_010256</td>\n",
       "      <td>A11XGDVL8AQ6VL</td>\n",
       "    </tr>\n",
       "    <tr>\n",
       "      <th>2</th>\n",
       "      <td>Fred and barney stand in the doorway to the ho...</td>\n",
       "      <td>3KGTPGBS6YLOG3HQGB776CYCSUE2UZ</td>\n",
       "      <td>https://s3-us-west-2.amazonaws.com/ai2-vision-...</td>\n",
       "      <td>3IHWR4LC7EDR67QLC9MS8GSJXLWI8W</td>\n",
       "      <td>s_02_e_07_shot_009401_009475</td>\n",
       "      <td>A2DRV5CGGW5HTK</td>\n",
       "    </tr>\n",
       "    <tr>\n",
       "      <th>3</th>\n",
       "      <td>Wilma and Fred are standing by the doorway. Wi...</td>\n",
       "      <td>3GA6AFUKOPO8WZ7PKCED67EE4043H2</td>\n",
       "      <td>https://s3-us-west-2.amazonaws.com/ai2-vision-...</td>\n",
       "      <td>3V7ICJJAZBGG0YPDUW4Y5H8109FB48</td>\n",
       "      <td>s_03_e_02_shot_033009_033083</td>\n",
       "      <td>AAI32CU3ZUGGV</td>\n",
       "    </tr>\n",
       "    <tr>\n",
       "      <th>4</th>\n",
       "      <td>Wilma is in a bedroom.  She is crying in bed. ...</td>\n",
       "      <td>3TVSS0C0E20VS608UQ64PNSZDNVWTD</td>\n",
       "      <td>https://s3-us-west-2.amazonaws.com/ai2-vision-...</td>\n",
       "      <td>39TX062QX2O2V59AZERXK97N5C7X3I</td>\n",
       "      <td>s_03_e_19_shot_041459_041533</td>\n",
       "      <td>A39AXTTH0QVFA3</td>\n",
       "    </tr>\n",
       "    <tr>\n",
       "      <th>5</th>\n",
       "      <td>Barney is outside.  His head is wrapped up and...</td>\n",
       "      <td>3VP0C6EFSHWTLWVIUBSO5FYUVDBM66</td>\n",
       "      <td>https://s3-us-west-2.amazonaws.com/ai2-vision-...</td>\n",
       "      <td>3EHIMLB7F8ZRACF16R4784R4X8I8HU</td>\n",
       "      <td>s_03_e_12_shot_012232_012306</td>\n",
       "      <td>A39AXTTH0QVFA3</td>\n",
       "    </tr>\n",
       "    <tr>\n",
       "      <th>6</th>\n",
       "      <td>A purple dino is standing in the backyard and ...</td>\n",
       "      <td>32RIADZIST4I4449VKVVKQDMRBL4SD</td>\n",
       "      <td>https://s3-us-west-2.amazonaws.com/ai2-vision-...</td>\n",
       "      <td>37VUR2VJ6BPII4K0LEHRI37G6A61CT</td>\n",
       "      <td>s_05_e_01_shot_023023_023097</td>\n",
       "      <td>AAI32CU3ZUGGV</td>\n",
       "    </tr>\n",
       "    <tr>\n",
       "      <th>7</th>\n",
       "      <td>A man in orange tunic is walking in the street...</td>\n",
       "      <td>37WLF8U1WQQYV8VF9ZF8Q26Q68C6KH</td>\n",
       "      <td>https://s3-us-west-2.amazonaws.com/ai2-vision-...</td>\n",
       "      <td>3X0EMNLXEQPHY592XXNM9RD3UXRPVJ</td>\n",
       "      <td>s_01_e_07_shot_027419_027493</td>\n",
       "      <td>A164LU3V7YITK7</td>\n",
       "    </tr>\n",
       "    <tr>\n",
       "      <th>8</th>\n",
       "      <td>Fred walks up to creepella gruesome in the roo...</td>\n",
       "      <td>3JBT3HLQF921U9C6OWHRJHLK5MIZP5</td>\n",
       "      <td>https://s3-us-west-2.amazonaws.com/ai2-vision-...</td>\n",
       "      <td>3XBXDSS889JJB9ZZ5KVXGV145YZLXL</td>\n",
       "      <td>s_05_e_09_shot_041787_041861</td>\n",
       "      <td>A37X1GHLB2HCX7</td>\n",
       "    </tr>\n",
       "    <tr>\n",
       "      <th>9</th>\n",
       "      <td>Fred stands behind a lady in a blue dress who ...</td>\n",
       "      <td>3U0SRXB7CE5SPXE2Y0AMTPEQWQVRN5</td>\n",
       "      <td>https://s3-us-west-2.amazonaws.com/ai2-vision-...</td>\n",
       "      <td>3421H3BM9BHNFNT1ZJD6KD2UU62J9X</td>\n",
       "      <td>s_06_e_23_shot_012023_012097</td>\n",
       "      <td>A4UVNGSXE2ANA</td>\n",
       "    </tr>\n",
       "    <tr>\n",
       "      <th>10</th>\n",
       "      <td>Mr Slate and Fred are standing outdoors. They ...</td>\n",
       "      <td>3Y5140Z9DYGFZJNWOST5JMIU997IPI</td>\n",
       "      <td>https://s3-us-west-2.amazonaws.com/ai2-vision-...</td>\n",
       "      <td>3O4VWC1GEX610L4LIACWT0Z8UESJ3G</td>\n",
       "      <td>s_02_e_02_shot_018423_018497</td>\n",
       "      <td>A308MILZVIA62M</td>\n",
       "    </tr>\n",
       "    <tr>\n",
       "      <th>11</th>\n",
       "      <td>Baby Puss is outside. He shivers and grasps hi...</td>\n",
       "      <td>3U5NZHP4LS2F3OCCIABKJAHF9WRPHV</td>\n",
       "      <td>https://s3-us-west-2.amazonaws.com/ai2-vision-...</td>\n",
       "      <td>311HQEI8RTG91JAC28I8UBZEIEQZ7L</td>\n",
       "      <td>s_04_e_07_shot_019316_019390</td>\n",
       "      <td>A164LU3V7YITK7</td>\n",
       "    </tr>\n",
       "    <tr>\n",
       "      <th>12</th>\n",
       "      <td>Fred, Mr Slate, and Man Wearing Baseball Unifo...</td>\n",
       "      <td>39RP059MEITZR8CDQ29WGVKM9EFBM9</td>\n",
       "      <td>https://s3-us-west-2.amazonaws.com/ai2-vision-...</td>\n",
       "      <td>3X7837UUAEY0X4R31CAU03BS45U6J9</td>\n",
       "      <td>s_04_e_08_shot_021734_021808</td>\n",
       "      <td>A1BJ2D8XQMYG4I</td>\n",
       "    </tr>\n",
       "    <tr>\n",
       "      <th>13</th>\n",
       "      <td>Barney is outside talking to his friend. Barne...</td>\n",
       "      <td>317HQ483I8SFWYBJ8DGDFXDZ9UCINS</td>\n",
       "      <td>https://s3-us-west-2.amazonaws.com/ai2-vision-...</td>\n",
       "      <td>3XBYQ44Z6Q4S5M2E4O1203XEQ9EWT5</td>\n",
       "      <td>s_01_e_02_shot_003934_004008</td>\n",
       "      <td>A1I1VA0OBAZ2HH</td>\n",
       "    </tr>\n",
       "    <tr>\n",
       "      <th>14</th>\n",
       "      <td>Wilma and Barney are in the living room. Barne...</td>\n",
       "      <td>32AT8R96GM9HL2YOAQMDXUBGQO0SUF</td>\n",
       "      <td>https://s3-us-west-2.amazonaws.com/ai2-vision-...</td>\n",
       "      <td>37SDSEDINA2G61UN421MGHBXGJK18M</td>\n",
       "      <td>s_01_e_21_shot_031742_031816</td>\n",
       "      <td>A1I1VA0OBAZ2HH</td>\n",
       "    </tr>\n",
       "    <tr>\n",
       "      <th>15</th>\n",
       "      <td>Wilma and Betty are in the dining room reading...</td>\n",
       "      <td>3KKG4CDWKJY0ZP8AMEV43V8WZNV946</td>\n",
       "      <td>https://s3-us-west-2.amazonaws.com/ai2-vision-...</td>\n",
       "      <td>3A3KKYU7P4HOSRCUVR0QEP2MW1IMWU</td>\n",
       "      <td>s_06_e_25_shot_006941_007015</td>\n",
       "      <td>AMA4SXSYNC35I</td>\n",
       "    </tr>\n",
       "    <tr>\n",
       "      <th>16</th>\n",
       "      <td>Dino suddenly ducks for cover on the living ro...</td>\n",
       "      <td>3C5W7UE9CGQ64BFEVY1E5SBESH7XM8</td>\n",
       "      <td>https://s3-us-west-2.amazonaws.com/ai2-vision-...</td>\n",
       "      <td>3DGDV62G7P981EB09N3B7MGSXZZ2PP</td>\n",
       "      <td>s_03_e_25_shot_025813_025887</td>\n",
       "      <td>A1M5BJTQIXCM33</td>\n",
       "    </tr>\n",
       "    <tr>\n",
       "      <th>17</th>\n",
       "      <td>Fred is walking and talking at the same time i...</td>\n",
       "      <td>3P59JYT76MK9GQ21G6HX1GCA9GX2TY</td>\n",
       "      <td>https://s3-us-west-2.amazonaws.com/ai2-vision-...</td>\n",
       "      <td>36QZ6V158ADEYI0UKOHB8AGV3AOSUC</td>\n",
       "      <td>s_02_e_17_shot_033242_033316</td>\n",
       "      <td>AQ5RV9HW7U6ID</td>\n",
       "    </tr>\n",
       "    <tr>\n",
       "      <th>18</th>\n",
       "      <td>Wilma and Betty are looking behind a curtain i...</td>\n",
       "      <td>304SM51WA442P3PIAZ5IS4JS137SBC</td>\n",
       "      <td>https://s3-us-west-2.amazonaws.com/ai2-vision-...</td>\n",
       "      <td>39WICJI5AUSR009P0WFIHUNYDC5Z3H</td>\n",
       "      <td>s_02_e_31_shot_035449_035523</td>\n",
       "      <td>AAI32CU3ZUGGV</td>\n",
       "    </tr>\n",
       "    <tr>\n",
       "      <th>19</th>\n",
       "      <td>Woman on tv with napkin tucked in front of her...</td>\n",
       "      <td>3X66WABAJXIUW3CE06WVL72DP0W3G8</td>\n",
       "      <td>https://s3-us-west-2.amazonaws.com/ai2-vision-...</td>\n",
       "      <td>3ZXNP4Z39SLPWUT8N7RZMWOG35JL7P</td>\n",
       "      <td>s_03_e_02_shot_003600_003674</td>\n",
       "      <td>A1I1VA0OBAZ2HH</td>\n",
       "    </tr>\n",
       "    <tr>\n",
       "      <th>20</th>\n",
       "      <td>Wilma is in a room.  She is talking on the pho...</td>\n",
       "      <td>3AUQQEL7U6THX83C6EDYJA7G93YV0S</td>\n",
       "      <td>https://s3-us-west-2.amazonaws.com/ai2-vision-...</td>\n",
       "      <td>37S0QRNUFCGYH1E83NA1VRY5UPR88E</td>\n",
       "      <td>s_04_e_05_shot_032472_032546</td>\n",
       "      <td>A29RJVVL54THB5</td>\n",
       "    </tr>\n",
       "    <tr>\n",
       "      <th>21</th>\n",
       "      <td>Fred is laying down on the floor of the room.</td>\n",
       "      <td>32UTUBMZ7HWIHV6M4UAN3R3Z07RBVQ</td>\n",
       "      <td>https://s3-us-west-2.amazonaws.com/ai2-vision-...</td>\n",
       "      <td>3SNR5F7R93T8F80CPC8S0QO58OTEIQ</td>\n",
       "      <td>s_03_e_25_shot_014751_014825</td>\n",
       "      <td>A1DINOR5IK1YC4</td>\n",
       "    </tr>\n",
       "    <tr>\n",
       "      <th>22</th>\n",
       "      <td>Fred is standing in the yard.  He is talking w...</td>\n",
       "      <td>3XLBSAQ9Z5CCO386SANAJVUZ5SEZ70</td>\n",
       "      <td>https://s3-us-west-2.amazonaws.com/ai2-vision-...</td>\n",
       "      <td>3VP28W7DUOKMGCPIKRGKI3CVG2CFZ8</td>\n",
       "      <td>s_04_e_06_shot_022396_022470</td>\n",
       "      <td>A39AXTTH0QVFA3</td>\n",
       "    </tr>\n",
       "    <tr>\n",
       "      <th>23</th>\n",
       "      <td>Blue dino with green mouth is outside walking ...</td>\n",
       "      <td>3XIQGXAUMD8NJ88RRSZPMAEOXSAX7V</td>\n",
       "      <td>https://s3-us-west-2.amazonaws.com/ai2-vision-...</td>\n",
       "      <td>31HLTCK4BMVBLSG3UEXZFIZBT64VGL</td>\n",
       "      <td>s_02_e_12_shot_026983_027057</td>\n",
       "      <td>A3KP151PRRZFIF</td>\n",
       "    </tr>\n",
       "    <tr>\n",
       "      <th>24</th>\n",
       "      <td>Barney sits in the living room, while Fred sta...</td>\n",
       "      <td>3VJ40NV2QJNNNXR634FU8TFDALROTO</td>\n",
       "      <td>https://s3-us-west-2.amazonaws.com/ai2-vision-...</td>\n",
       "      <td>3JMNNNO3B24YLN81L9H6ZGOOQW12WJ</td>\n",
       "      <td>s_02_e_14_shot_033088_033162</td>\n",
       "      <td>A132MSWBBVTOES</td>\n",
       "    </tr>\n",
       "    <tr>\n",
       "      <th>25</th>\n",
       "      <td>Fred is at the quarry speaking.</td>\n",
       "      <td>3BEFOD78W7TF69R4BNZ98HEGZM04MY</td>\n",
       "      <td>https://s3-us-west-2.amazonaws.com/ai2-vision-...</td>\n",
       "      <td>38EHZ67RINSSV5MUGMW8SMGY2DSGMP</td>\n",
       "      <td>s_01_e_06_shot_008943_009017</td>\n",
       "      <td>A3KP151PRRZFIF</td>\n",
       "    </tr>\n",
       "    <tr>\n",
       "      <th>26</th>\n",
       "      <td>Mr Slate stands outside in a purple shirt with...</td>\n",
       "      <td>3RXPCZQMQQBYM0YZD2ICXENGRGDG1O</td>\n",
       "      <td>https://s3-us-west-2.amazonaws.com/ai2-vision-...</td>\n",
       "      <td>3X878VYTIFI3W2JC1WO1RJJW69XF7E</td>\n",
       "      <td>s_03_e_05_shot_035214_035288</td>\n",
       "      <td>A20DQZTIIISMS8</td>\n",
       "    </tr>\n",
       "    <tr>\n",
       "      <th>27</th>\n",
       "      <td>Fred and Dino are outside.  They are walking s...</td>\n",
       "      <td>3I7DHKZYGO0RWI3N35E6IJ0L2HGF54</td>\n",
       "      <td>https://s3-us-west-2.amazonaws.com/ai2-vision-...</td>\n",
       "      <td>3WUVMVA7OC3RKL8A9BUS4214JMWZAC</td>\n",
       "      <td>s_02_e_13_shot_000572_000646</td>\n",
       "      <td>A3J0ALXC5LRSSG</td>\n",
       "    </tr>\n",
       "    <tr>\n",
       "      <th>28</th>\n",
       "      <td>A red head woman in hat drags Fred through the...</td>\n",
       "      <td>3WJ1OXY92BGFN95HQNZHG2ZL7R9A8T</td>\n",
       "      <td>https://s3-us-west-2.amazonaws.com/ai2-vision-...</td>\n",
       "      <td>3NI0WFPPIAGTVYQHF40OIYWW5WO602</td>\n",
       "      <td>s_02_e_26_shot_044814_044888</td>\n",
       "      <td>A308MILZVIA62M</td>\n",
       "    </tr>\n",
       "    <tr>\n",
       "      <th>29</th>\n",
       "      <td>Fred is standing next to a table in the room w...</td>\n",
       "      <td>3H8DHMCCWABXGHAUJMNMW8GINUTDKA</td>\n",
       "      <td>https://s3-us-west-2.amazonaws.com/ai2-vision-...</td>\n",
       "      <td>33EEIIWHK872YHAHXA2B9W3DZTCVQF</td>\n",
       "      <td>s_02_e_03_shot_005942_006016</td>\n",
       "      <td>A37X1GHLB2HCX7</td>\n",
       "    </tr>\n",
       "    <tr>\n",
       "      <th>30</th>\n",
       "      <td>Fred is outside lying on the ground.</td>\n",
       "      <td>3WYP994K18RTFDKWDEGZZAL14NM6YD</td>\n",
       "      <td>https://s3-us-west-2.amazonaws.com/ai2-vision-...</td>\n",
       "      <td>3TKXBROM5UAGQOM43DJJX61XDWPIJF</td>\n",
       "      <td>s_03_e_08_shot_023793_023867</td>\n",
       "      <td>A147TNM8V7BU92</td>\n",
       "    </tr>\n",
       "    <tr>\n",
       "      <th>31</th>\n",
       "      <td>In his yard, Fred walks in a straight line tal...</td>\n",
       "      <td>3YWRV122CTZZ2IJFWSG8G3BFEUTU8H</td>\n",
       "      <td>https://s3-us-west-2.amazonaws.com/ai2-vision-...</td>\n",
       "      <td>3X7837UUAEY0X4R31CAU03BS45UJ6M</td>\n",
       "      <td>s_06_e_21_shot_015565_015639</td>\n",
       "      <td>A1M5BJTQIXCM33</td>\n",
       "    </tr>\n",
       "    <tr>\n",
       "      <th>32</th>\n",
       "      <td>Wilma and Dino are standing in the living room...</td>\n",
       "      <td>3QY7M81QH8MHZ89KS9K0WG6M1JQK7O</td>\n",
       "      <td>https://s3-us-west-2.amazonaws.com/ai2-vision-...</td>\n",
       "      <td>3HA5ODM5KBSEBXPUPERG4WIEHHXSV1</td>\n",
       "      <td>s_03_e_18_shot_035134_035208</td>\n",
       "      <td>AAI32CU3ZUGGV</td>\n",
       "    </tr>\n",
       "    <tr>\n",
       "      <th>33</th>\n",
       "      <td>Wilma is moving the curtains in the living roo...</td>\n",
       "      <td>3R6BYFZZP8C0Y1NX9BX1A2R5VGRXFX</td>\n",
       "      <td>https://s3-us-west-2.amazonaws.com/ai2-vision-...</td>\n",
       "      <td>37PGLWGSJU6B18SMLYJVYL1ASLPIKE</td>\n",
       "      <td>s_01_e_17_shot_029278_029352</td>\n",
       "      <td>AQ5RV9HW7U6ID</td>\n",
       "    </tr>\n",
       "    <tr>\n",
       "      <th>34</th>\n",
       "      <td>Fred and Barney are in the living room.  Fred ...</td>\n",
       "      <td>3LUY3GC6300IAZ6051P8SXSLVT27PI</td>\n",
       "      <td>https://s3-us-west-2.amazonaws.com/ai2-vision-...</td>\n",
       "      <td>39TX062QX2O2V59AZERXK97N5C73XO</td>\n",
       "      <td>s_03_e_23_shot_017798_017872</td>\n",
       "      <td>A39AXTTH0QVFA3</td>\n",
       "    </tr>\n",
       "    <tr>\n",
       "      <th>35</th>\n",
       "      <td>Mr slate is talking to himself looking at some...</td>\n",
       "      <td>3TAYZSBPLM881QPMR6C7RBGO7XL2SB</td>\n",
       "      <td>https://s3-us-west-2.amazonaws.com/ai2-vision-...</td>\n",
       "      <td>3ZXV7Q5FJCO98JE8SDWC75BA7KOCF4</td>\n",
       "      <td>s_06_e_09_shot_034782_034856</td>\n",
       "      <td>AQ5RV9HW7U6ID</td>\n",
       "    </tr>\n",
       "    <tr>\n",
       "      <th>36</th>\n",
       "      <td>Fred is laying in a hammock in the yard. He ta...</td>\n",
       "      <td>33FBRBDW6PZ3GO2FA1V8MXP97UR8CQ</td>\n",
       "      <td>https://s3-us-west-2.amazonaws.com/ai2-vision-...</td>\n",
       "      <td>32FESTC2NIQYR1BYN2RBT5CDH73CU3</td>\n",
       "      <td>s_01_e_17_shot_004477_004551</td>\n",
       "      <td>A33CY9EY50SSLI</td>\n",
       "    </tr>\n",
       "    <tr>\n",
       "      <th>37</th>\n",
       "      <td>Betty and Wilma are in the yard. They are each...</td>\n",
       "      <td>3ZOTGHDK5JBM8XERE4A4YOJR82IOS4</td>\n",
       "      <td>https://s3-us-west-2.amazonaws.com/ai2-vision-...</td>\n",
       "      <td>36FQTHX3Z4RVI269UIZFVCGVM9JB3N</td>\n",
       "      <td>s_01_e_24_shot_013398_013472</td>\n",
       "      <td>A3FOKP72T5I4FR</td>\n",
       "    </tr>\n",
       "    <tr>\n",
       "      <th>38</th>\n",
       "      <td>Wilma is in the bedroom. She is sitting in bed...</td>\n",
       "      <td>3J4Q2Z4UTZ3I0Q8GDMC9KIHCTG1QWY</td>\n",
       "      <td>https://s3-us-west-2.amazonaws.com/ai2-vision-...</td>\n",
       "      <td>3JTPR5MTZTCZPKX7EE019CX5NZJK56</td>\n",
       "      <td>s_02_e_31_shot_026422_026496</td>\n",
       "      <td>A1BJ2D8XQMYG4I</td>\n",
       "    </tr>\n",
       "    <tr>\n",
       "      <th>39</th>\n",
       "      <td>Fred and Barney are in a room. Fred is lying o...</td>\n",
       "      <td>3C6FJU71TRTEHOAX9WE2FGZH79XYU0</td>\n",
       "      <td>https://s3-us-west-2.amazonaws.com/ai2-vision-...</td>\n",
       "      <td>3PEG1BH7AFR1E0EGFORECYXXXV5BKY</td>\n",
       "      <td>s_01_e_01_shot_018227_018301</td>\n",
       "      <td>A1BJ2D8XQMYG4I</td>\n",
       "    </tr>\n",
       "    <tr>\n",
       "      <th>40</th>\n",
       "      <td>Fred and Barney sit in a bowling alley on a co...</td>\n",
       "      <td>3NLZY2D53QP2PWWH9857B70WV9QLQT</td>\n",
       "      <td>https://s3-us-west-2.amazonaws.com/ai2-vision-...</td>\n",
       "      <td>371QPA24C3OZ4LMB70CH7D7KUW51TB</td>\n",
       "      <td>s_02_e_06_shot_028094_028168</td>\n",
       "      <td>A20DQZTIIISMS8</td>\n",
       "    </tr>\n",
       "    <tr>\n",
       "      <th>41</th>\n",
       "      <td>Fred and barney are in the yard with a martian...</td>\n",
       "      <td>3HWRJOOET620W612KQ78TCPD40JSEB</td>\n",
       "      <td>https://s3-us-west-2.amazonaws.com/ai2-vision-...</td>\n",
       "      <td>3WKGUBL7S0MSD7BPL9TSJK46C3UL46</td>\n",
       "      <td>s_06_e_17_shot_016643_016717</td>\n",
       "      <td>A1ZQF173191T3P</td>\n",
       "    </tr>\n",
       "    <tr>\n",
       "      <th>42</th>\n",
       "      <td>Fred is standing in a room.  He is talking to ...</td>\n",
       "      <td>3AMYWKA6YCMHLZGU7R71XJNZQDJ6OY</td>\n",
       "      <td>https://s3-us-west-2.amazonaws.com/ai2-vision-...</td>\n",
       "      <td>3MA5N0ATTDBT23CRAFNAZCAI7WMWKY</td>\n",
       "      <td>s_02_e_14_shot_007267_007341</td>\n",
       "      <td>A2LH2CAU6CXVW</td>\n",
       "    </tr>\n",
       "    <tr>\n",
       "      <th>43</th>\n",
       "      <td>Wilma is standing around the dining room table...</td>\n",
       "      <td>3Y9N9SS8LZBRKJ2NYGVNFMZGC873DP</td>\n",
       "      <td>https://s3-us-west-2.amazonaws.com/ai2-vision-...</td>\n",
       "      <td>3DA79LNS5AVVEO0QU4Q0V6MHSGIT3U</td>\n",
       "      <td>s_03_e_15_shot_034402_034476</td>\n",
       "      <td>A1M5BJTQIXCM33</td>\n",
       "    </tr>\n",
       "    <tr>\n",
       "      <th>44</th>\n",
       "      <td>Wilma and mr slate are in a room.  Wilma is ta...</td>\n",
       "      <td>3AQF3RZ559INFM318OOBAPELYCB6FV</td>\n",
       "      <td>https://s3-us-west-2.amazonaws.com/ai2-vision-...</td>\n",
       "      <td>3BFF0DJK8YCZY5L5KJR13EUTKWISTM</td>\n",
       "      <td>s_01_e_10_shot_022286_022360</td>\n",
       "      <td>AU34T9OMHN4Z4</td>\n",
       "    </tr>\n",
       "    <tr>\n",
       "      <th>45</th>\n",
       "      <td>Fred and Barney are sitting in the front yard....</td>\n",
       "      <td>35DR22AR5EK5IP74PGWZ9T28SQJX3L</td>\n",
       "      <td>https://s3-us-west-2.amazonaws.com/ai2-vision-...</td>\n",
       "      <td>3A520CCNWO0T9QHEDOGFJS0MVGOEAM</td>\n",
       "      <td>s_01_e_20_shot_010446_010520</td>\n",
       "      <td>A3FOKP72T5I4FR</td>\n",
       "    </tr>\n",
       "    <tr>\n",
       "      <th>46</th>\n",
       "      <td>Dino is standing on Barney at the doorway and ...</td>\n",
       "      <td>3QAPZX2QN5D80H5AI4TNH5A5C5420Q</td>\n",
       "      <td>https://s3-us-west-2.amazonaws.com/ai2-vision-...</td>\n",
       "      <td>34R0BODSP2ZW3K5XISPYBHK032O5E8</td>\n",
       "      <td>s_03_e_07_shot_018249_018323</td>\n",
       "      <td>A26ERTJPV1A1IM</td>\n",
       "    </tr>\n",
       "    <tr>\n",
       "      <th>47</th>\n",
       "      <td>Wilma is standing in the living room. After fi...</td>\n",
       "      <td>3IHR8NYAM81LRCOH33R1PL8B4RDP4H</td>\n",
       "      <td>https://s3-us-west-2.amazonaws.com/ai2-vision-...</td>\n",
       "      <td>375VMB7D4KJ3N2MCTHX8U86K8CTDIX</td>\n",
       "      <td>s_02_e_18_shot_043404_043478</td>\n",
       "      <td>A1M5BJTQIXCM33</td>\n",
       "    </tr>\n",
       "    <tr>\n",
       "      <th>48</th>\n",
       "      <td>Fred is in a room. He writes on a clipboard wi...</td>\n",
       "      <td>3TXMY6UCAFO9MS2BWVC88OA910DCQ5</td>\n",
       "      <td>https://s3-us-west-2.amazonaws.com/ai2-vision-...</td>\n",
       "      <td>34XASH8KLRMY8IFTJ5MVMVUQ34FMPZ</td>\n",
       "      <td>s_06_e_17_shot_006776_006850</td>\n",
       "      <td>A308MILZVIA62M</td>\n",
       "    </tr>\n",
       "    <tr>\n",
       "      <th>49</th>\n",
       "      <td>Fred is holding Pebbles in a room.  Fred is ta...</td>\n",
       "      <td>3ON104KXQLWBBLLIFP5WHFG7XOJW4M</td>\n",
       "      <td>https://s3-us-west-2.amazonaws.com/ai2-vision-...</td>\n",
       "      <td>30Z7M1Q8UZKC0P7N0LUFRI40KDSA8L</td>\n",
       "      <td>s_03_e_25_shot_018139_018213</td>\n",
       "      <td>A39AXTTH0QVFA3</td>\n",
       "    </tr>\n",
       "  </tbody>\n",
       "</table>\n",
       "</div>"
      ],
      "text/plain": [
       "                                   action_description  \\\n",
       "0   Barney is scared by a large orange claw coming...   \n",
       "1   Old Sheriff man is sitting at a table in the d...   \n",
       "2   Fred and barney stand in the doorway to the ho...   \n",
       "3   Wilma and Fred are standing by the doorway. Wi...   \n",
       "4   Wilma is in a bedroom.  She is crying in bed. ...   \n",
       "5   Barney is outside.  His head is wrapped up and...   \n",
       "6   A purple dino is standing in the backyard and ...   \n",
       "7   A man in orange tunic is walking in the street...   \n",
       "8   Fred walks up to creepella gruesome in the roo...   \n",
       "9   Fred stands behind a lady in a blue dress who ...   \n",
       "10  Mr Slate and Fred are standing outdoors. They ...   \n",
       "11  Baby Puss is outside. He shivers and grasps hi...   \n",
       "12  Fred, Mr Slate, and Man Wearing Baseball Unifo...   \n",
       "13  Barney is outside talking to his friend. Barne...   \n",
       "14  Wilma and Barney are in the living room. Barne...   \n",
       "15  Wilma and Betty are in the dining room reading...   \n",
       "16  Dino suddenly ducks for cover on the living ro...   \n",
       "17  Fred is walking and talking at the same time i...   \n",
       "18  Wilma and Betty are looking behind a curtain i...   \n",
       "19  Woman on tv with napkin tucked in front of her...   \n",
       "20  Wilma is in a room.  She is talking on the pho...   \n",
       "21      Fred is laying down on the floor of the room.   \n",
       "22  Fred is standing in the yard.  He is talking w...   \n",
       "23  Blue dino with green mouth is outside walking ...   \n",
       "24  Barney sits in the living room, while Fred sta...   \n",
       "25                   Fred is at the quarry speaking.    \n",
       "26  Mr Slate stands outside in a purple shirt with...   \n",
       "27  Fred and Dino are outside.  They are walking s...   \n",
       "28  A red head woman in hat drags Fred through the...   \n",
       "29  Fred is standing next to a table in the room w...   \n",
       "30               Fred is outside lying on the ground.   \n",
       "31  In his yard, Fred walks in a straight line tal...   \n",
       "32  Wilma and Dino are standing in the living room...   \n",
       "33  Wilma is moving the curtains in the living roo...   \n",
       "34  Fred and Barney are in the living room.  Fred ...   \n",
       "35  Mr slate is talking to himself looking at some...   \n",
       "36  Fred is laying in a hammock in the yard. He ta...   \n",
       "37  Betty and Wilma are in the yard. They are each...   \n",
       "38  Wilma is in the bedroom. She is sitting in bed...   \n",
       "39  Fred and Barney are in a room. Fred is lying o...   \n",
       "40  Fred and Barney sit in a bowling alley on a co...   \n",
       "41  Fred and barney are in the yard with a martian...   \n",
       "42  Fred is standing in a room.  He is talking to ...   \n",
       "43  Wilma is standing around the dining room table...   \n",
       "44  Wilma and mr slate are in a room.  Wilma is ta...   \n",
       "45  Fred and Barney are sitting in the front yard....   \n",
       "46  Dino is standing on Barney at the doorway and ...   \n",
       "47  Wilma is standing in the living room. After fi...   \n",
       "48  Fred is in a room. He writes on a clipboard wi...   \n",
       "49  Fred is holding Pebbles in a room.  Fred is ta...   \n",
       "\n",
       "                          asgmt_id  \\\n",
       "0   3BV8HQ2ZZX1SJVMTX82JWO3U1WP6A9   \n",
       "1   3TMFV4NEP9ECUM8KRSV9YRWCZAFW8T   \n",
       "2   3KGTPGBS6YLOG3HQGB776CYCSUE2UZ   \n",
       "3   3GA6AFUKOPO8WZ7PKCED67EE4043H2   \n",
       "4   3TVSS0C0E20VS608UQ64PNSZDNVWTD   \n",
       "5   3VP0C6EFSHWTLWVIUBSO5FYUVDBM66   \n",
       "6   32RIADZIST4I4449VKVVKQDMRBL4SD   \n",
       "7   37WLF8U1WQQYV8VF9ZF8Q26Q68C6KH   \n",
       "8   3JBT3HLQF921U9C6OWHRJHLK5MIZP5   \n",
       "9   3U0SRXB7CE5SPXE2Y0AMTPEQWQVRN5   \n",
       "10  3Y5140Z9DYGFZJNWOST5JMIU997IPI   \n",
       "11  3U5NZHP4LS2F3OCCIABKJAHF9WRPHV   \n",
       "12  39RP059MEITZR8CDQ29WGVKM9EFBM9   \n",
       "13  317HQ483I8SFWYBJ8DGDFXDZ9UCINS   \n",
       "14  32AT8R96GM9HL2YOAQMDXUBGQO0SUF   \n",
       "15  3KKG4CDWKJY0ZP8AMEV43V8WZNV946   \n",
       "16  3C5W7UE9CGQ64BFEVY1E5SBESH7XM8   \n",
       "17  3P59JYT76MK9GQ21G6HX1GCA9GX2TY   \n",
       "18  304SM51WA442P3PIAZ5IS4JS137SBC   \n",
       "19  3X66WABAJXIUW3CE06WVL72DP0W3G8   \n",
       "20  3AUQQEL7U6THX83C6EDYJA7G93YV0S   \n",
       "21  32UTUBMZ7HWIHV6M4UAN3R3Z07RBVQ   \n",
       "22  3XLBSAQ9Z5CCO386SANAJVUZ5SEZ70   \n",
       "23  3XIQGXAUMD8NJ88RRSZPMAEOXSAX7V   \n",
       "24  3VJ40NV2QJNNNXR634FU8TFDALROTO   \n",
       "25  3BEFOD78W7TF69R4BNZ98HEGZM04MY   \n",
       "26  3RXPCZQMQQBYM0YZD2ICXENGRGDG1O   \n",
       "27  3I7DHKZYGO0RWI3N35E6IJ0L2HGF54   \n",
       "28  3WJ1OXY92BGFN95HQNZHG2ZL7R9A8T   \n",
       "29  3H8DHMCCWABXGHAUJMNMW8GINUTDKA   \n",
       "30  3WYP994K18RTFDKWDEGZZAL14NM6YD   \n",
       "31  3YWRV122CTZZ2IJFWSG8G3BFEUTU8H   \n",
       "32  3QY7M81QH8MHZ89KS9K0WG6M1JQK7O   \n",
       "33  3R6BYFZZP8C0Y1NX9BX1A2R5VGRXFX   \n",
       "34  3LUY3GC6300IAZ6051P8SXSLVT27PI   \n",
       "35  3TAYZSBPLM881QPMR6C7RBGO7XL2SB   \n",
       "36  33FBRBDW6PZ3GO2FA1V8MXP97UR8CQ   \n",
       "37  3ZOTGHDK5JBM8XERE4A4YOJR82IOS4   \n",
       "38  3J4Q2Z4UTZ3I0Q8GDMC9KIHCTG1QWY   \n",
       "39  3C6FJU71TRTEHOAX9WE2FGZH79XYU0   \n",
       "40  3NLZY2D53QP2PWWH9857B70WV9QLQT   \n",
       "41  3HWRJOOET620W612KQ78TCPD40JSEB   \n",
       "42  3AMYWKA6YCMHLZGU7R71XJNZQDJ6OY   \n",
       "43  3Y9N9SS8LZBRKJ2NYGVNFMZGC873DP   \n",
       "44  3AQF3RZ559INFM318OOBAPELYCB6FV   \n",
       "45  35DR22AR5EK5IP74PGWZ9T28SQJX3L   \n",
       "46  3QAPZX2QN5D80H5AI4TNH5A5C5420Q   \n",
       "47  3IHR8NYAM81LRCOH33R1PL8B4RDP4H   \n",
       "48  3TXMY6UCAFO9MS2BWVC88OA910DCQ5   \n",
       "49  3ON104KXQLWBBLLIFP5WHFG7XOJW4M   \n",
       "\n",
       "                                              gif_uri  \\\n",
       "0   https://s3-us-west-2.amazonaws.com/ai2-vision-...   \n",
       "1   https://s3-us-west-2.amazonaws.com/ai2-vision-...   \n",
       "2   https://s3-us-west-2.amazonaws.com/ai2-vision-...   \n",
       "3   https://s3-us-west-2.amazonaws.com/ai2-vision-...   \n",
       "4   https://s3-us-west-2.amazonaws.com/ai2-vision-...   \n",
       "5   https://s3-us-west-2.amazonaws.com/ai2-vision-...   \n",
       "6   https://s3-us-west-2.amazonaws.com/ai2-vision-...   \n",
       "7   https://s3-us-west-2.amazonaws.com/ai2-vision-...   \n",
       "8   https://s3-us-west-2.amazonaws.com/ai2-vision-...   \n",
       "9   https://s3-us-west-2.amazonaws.com/ai2-vision-...   \n",
       "10  https://s3-us-west-2.amazonaws.com/ai2-vision-...   \n",
       "11  https://s3-us-west-2.amazonaws.com/ai2-vision-...   \n",
       "12  https://s3-us-west-2.amazonaws.com/ai2-vision-...   \n",
       "13  https://s3-us-west-2.amazonaws.com/ai2-vision-...   \n",
       "14  https://s3-us-west-2.amazonaws.com/ai2-vision-...   \n",
       "15  https://s3-us-west-2.amazonaws.com/ai2-vision-...   \n",
       "16  https://s3-us-west-2.amazonaws.com/ai2-vision-...   \n",
       "17  https://s3-us-west-2.amazonaws.com/ai2-vision-...   \n",
       "18  https://s3-us-west-2.amazonaws.com/ai2-vision-...   \n",
       "19  https://s3-us-west-2.amazonaws.com/ai2-vision-...   \n",
       "20  https://s3-us-west-2.amazonaws.com/ai2-vision-...   \n",
       "21  https://s3-us-west-2.amazonaws.com/ai2-vision-...   \n",
       "22  https://s3-us-west-2.amazonaws.com/ai2-vision-...   \n",
       "23  https://s3-us-west-2.amazonaws.com/ai2-vision-...   \n",
       "24  https://s3-us-west-2.amazonaws.com/ai2-vision-...   \n",
       "25  https://s3-us-west-2.amazonaws.com/ai2-vision-...   \n",
       "26  https://s3-us-west-2.amazonaws.com/ai2-vision-...   \n",
       "27  https://s3-us-west-2.amazonaws.com/ai2-vision-...   \n",
       "28  https://s3-us-west-2.amazonaws.com/ai2-vision-...   \n",
       "29  https://s3-us-west-2.amazonaws.com/ai2-vision-...   \n",
       "30  https://s3-us-west-2.amazonaws.com/ai2-vision-...   \n",
       "31  https://s3-us-west-2.amazonaws.com/ai2-vision-...   \n",
       "32  https://s3-us-west-2.amazonaws.com/ai2-vision-...   \n",
       "33  https://s3-us-west-2.amazonaws.com/ai2-vision-...   \n",
       "34  https://s3-us-west-2.amazonaws.com/ai2-vision-...   \n",
       "35  https://s3-us-west-2.amazonaws.com/ai2-vision-...   \n",
       "36  https://s3-us-west-2.amazonaws.com/ai2-vision-...   \n",
       "37  https://s3-us-west-2.amazonaws.com/ai2-vision-...   \n",
       "38  https://s3-us-west-2.amazonaws.com/ai2-vision-...   \n",
       "39  https://s3-us-west-2.amazonaws.com/ai2-vision-...   \n",
       "40  https://s3-us-west-2.amazonaws.com/ai2-vision-...   \n",
       "41  https://s3-us-west-2.amazonaws.com/ai2-vision-...   \n",
       "42  https://s3-us-west-2.amazonaws.com/ai2-vision-...   \n",
       "43  https://s3-us-west-2.amazonaws.com/ai2-vision-...   \n",
       "44  https://s3-us-west-2.amazonaws.com/ai2-vision-...   \n",
       "45  https://s3-us-west-2.amazonaws.com/ai2-vision-...   \n",
       "46  https://s3-us-west-2.amazonaws.com/ai2-vision-...   \n",
       "47  https://s3-us-west-2.amazonaws.com/ai2-vision-...   \n",
       "48  https://s3-us-west-2.amazonaws.com/ai2-vision-...   \n",
       "49  https://s3-us-west-2.amazonaws.com/ai2-vision-...   \n",
       "\n",
       "                            hit_id                      image_id  \\\n",
       "0   3EAWOID6MUXEAO5IGC8WUQCVMPG0VO  s_05_e_09_shot_032756_032830   \n",
       "1   3OB6JN3A9RPJKVV8WXQKRQU54M5MRT  s_02_e_02_shot_010182_010256   \n",
       "2   3IHWR4LC7EDR67QLC9MS8GSJXLWI8W  s_02_e_07_shot_009401_009475   \n",
       "3   3V7ICJJAZBGG0YPDUW4Y5H8109FB48  s_03_e_02_shot_033009_033083   \n",
       "4   39TX062QX2O2V59AZERXK97N5C7X3I  s_03_e_19_shot_041459_041533   \n",
       "5   3EHIMLB7F8ZRACF16R4784R4X8I8HU  s_03_e_12_shot_012232_012306   \n",
       "6   37VUR2VJ6BPII4K0LEHRI37G6A61CT  s_05_e_01_shot_023023_023097   \n",
       "7   3X0EMNLXEQPHY592XXNM9RD3UXRPVJ  s_01_e_07_shot_027419_027493   \n",
       "8   3XBXDSS889JJB9ZZ5KVXGV145YZLXL  s_05_e_09_shot_041787_041861   \n",
       "9   3421H3BM9BHNFNT1ZJD6KD2UU62J9X  s_06_e_23_shot_012023_012097   \n",
       "10  3O4VWC1GEX610L4LIACWT0Z8UESJ3G  s_02_e_02_shot_018423_018497   \n",
       "11  311HQEI8RTG91JAC28I8UBZEIEQZ7L  s_04_e_07_shot_019316_019390   \n",
       "12  3X7837UUAEY0X4R31CAU03BS45U6J9  s_04_e_08_shot_021734_021808   \n",
       "13  3XBYQ44Z6Q4S5M2E4O1203XEQ9EWT5  s_01_e_02_shot_003934_004008   \n",
       "14  37SDSEDINA2G61UN421MGHBXGJK18M  s_01_e_21_shot_031742_031816   \n",
       "15  3A3KKYU7P4HOSRCUVR0QEP2MW1IMWU  s_06_e_25_shot_006941_007015   \n",
       "16  3DGDV62G7P981EB09N3B7MGSXZZ2PP  s_03_e_25_shot_025813_025887   \n",
       "17  36QZ6V158ADEYI0UKOHB8AGV3AOSUC  s_02_e_17_shot_033242_033316   \n",
       "18  39WICJI5AUSR009P0WFIHUNYDC5Z3H  s_02_e_31_shot_035449_035523   \n",
       "19  3ZXNP4Z39SLPWUT8N7RZMWOG35JL7P  s_03_e_02_shot_003600_003674   \n",
       "20  37S0QRNUFCGYH1E83NA1VRY5UPR88E  s_04_e_05_shot_032472_032546   \n",
       "21  3SNR5F7R93T8F80CPC8S0QO58OTEIQ  s_03_e_25_shot_014751_014825   \n",
       "22  3VP28W7DUOKMGCPIKRGKI3CVG2CFZ8  s_04_e_06_shot_022396_022470   \n",
       "23  31HLTCK4BMVBLSG3UEXZFIZBT64VGL  s_02_e_12_shot_026983_027057   \n",
       "24  3JMNNNO3B24YLN81L9H6ZGOOQW12WJ  s_02_e_14_shot_033088_033162   \n",
       "25  38EHZ67RINSSV5MUGMW8SMGY2DSGMP  s_01_e_06_shot_008943_009017   \n",
       "26  3X878VYTIFI3W2JC1WO1RJJW69XF7E  s_03_e_05_shot_035214_035288   \n",
       "27  3WUVMVA7OC3RKL8A9BUS4214JMWZAC  s_02_e_13_shot_000572_000646   \n",
       "28  3NI0WFPPIAGTVYQHF40OIYWW5WO602  s_02_e_26_shot_044814_044888   \n",
       "29  33EEIIWHK872YHAHXA2B9W3DZTCVQF  s_02_e_03_shot_005942_006016   \n",
       "30  3TKXBROM5UAGQOM43DJJX61XDWPIJF  s_03_e_08_shot_023793_023867   \n",
       "31  3X7837UUAEY0X4R31CAU03BS45UJ6M  s_06_e_21_shot_015565_015639   \n",
       "32  3HA5ODM5KBSEBXPUPERG4WIEHHXSV1  s_03_e_18_shot_035134_035208   \n",
       "33  37PGLWGSJU6B18SMLYJVYL1ASLPIKE  s_01_e_17_shot_029278_029352   \n",
       "34  39TX062QX2O2V59AZERXK97N5C73XO  s_03_e_23_shot_017798_017872   \n",
       "35  3ZXV7Q5FJCO98JE8SDWC75BA7KOCF4  s_06_e_09_shot_034782_034856   \n",
       "36  32FESTC2NIQYR1BYN2RBT5CDH73CU3  s_01_e_17_shot_004477_004551   \n",
       "37  36FQTHX3Z4RVI269UIZFVCGVM9JB3N  s_01_e_24_shot_013398_013472   \n",
       "38  3JTPR5MTZTCZPKX7EE019CX5NZJK56  s_02_e_31_shot_026422_026496   \n",
       "39  3PEG1BH7AFR1E0EGFORECYXXXV5BKY  s_01_e_01_shot_018227_018301   \n",
       "40  371QPA24C3OZ4LMB70CH7D7KUW51TB  s_02_e_06_shot_028094_028168   \n",
       "41  3WKGUBL7S0MSD7BPL9TSJK46C3UL46  s_06_e_17_shot_016643_016717   \n",
       "42  3MA5N0ATTDBT23CRAFNAZCAI7WMWKY  s_02_e_14_shot_007267_007341   \n",
       "43  3DA79LNS5AVVEO0QU4Q0V6MHSGIT3U  s_03_e_15_shot_034402_034476   \n",
       "44  3BFF0DJK8YCZY5L5KJR13EUTKWISTM  s_01_e_10_shot_022286_022360   \n",
       "45  3A520CCNWO0T9QHEDOGFJS0MVGOEAM  s_01_e_20_shot_010446_010520   \n",
       "46  34R0BODSP2ZW3K5XISPYBHK032O5E8  s_03_e_07_shot_018249_018323   \n",
       "47  375VMB7D4KJ3N2MCTHX8U86K8CTDIX  s_02_e_18_shot_043404_043478   \n",
       "48  34XASH8KLRMY8IFTJ5MVMVUQ34FMPZ  s_06_e_17_shot_006776_006850   \n",
       "49  30Z7M1Q8UZKC0P7N0LUFRI40KDSA8L  s_03_e_25_shot_018139_018213   \n",
       "\n",
       "         worker_id  \n",
       "0   A1B22TUTP9XR1D  \n",
       "1   A11XGDVL8AQ6VL  \n",
       "2   A2DRV5CGGW5HTK  \n",
       "3    AAI32CU3ZUGGV  \n",
       "4   A39AXTTH0QVFA3  \n",
       "5   A39AXTTH0QVFA3  \n",
       "6    AAI32CU3ZUGGV  \n",
       "7   A164LU3V7YITK7  \n",
       "8   A37X1GHLB2HCX7  \n",
       "9    A4UVNGSXE2ANA  \n",
       "10  A308MILZVIA62M  \n",
       "11  A164LU3V7YITK7  \n",
       "12  A1BJ2D8XQMYG4I  \n",
       "13  A1I1VA0OBAZ2HH  \n",
       "14  A1I1VA0OBAZ2HH  \n",
       "15   AMA4SXSYNC35I  \n",
       "16  A1M5BJTQIXCM33  \n",
       "17   AQ5RV9HW7U6ID  \n",
       "18   AAI32CU3ZUGGV  \n",
       "19  A1I1VA0OBAZ2HH  \n",
       "20  A29RJVVL54THB5  \n",
       "21  A1DINOR5IK1YC4  \n",
       "22  A39AXTTH0QVFA3  \n",
       "23  A3KP151PRRZFIF  \n",
       "24  A132MSWBBVTOES  \n",
       "25  A3KP151PRRZFIF  \n",
       "26  A20DQZTIIISMS8  \n",
       "27  A3J0ALXC5LRSSG  \n",
       "28  A308MILZVIA62M  \n",
       "29  A37X1GHLB2HCX7  \n",
       "30  A147TNM8V7BU92  \n",
       "31  A1M5BJTQIXCM33  \n",
       "32   AAI32CU3ZUGGV  \n",
       "33   AQ5RV9HW7U6ID  \n",
       "34  A39AXTTH0QVFA3  \n",
       "35   AQ5RV9HW7U6ID  \n",
       "36  A33CY9EY50SSLI  \n",
       "37  A3FOKP72T5I4FR  \n",
       "38  A1BJ2D8XQMYG4I  \n",
       "39  A1BJ2D8XQMYG4I  \n",
       "40  A20DQZTIIISMS8  \n",
       "41  A1ZQF173191T3P  \n",
       "42   A2LH2CAU6CXVW  \n",
       "43  A1M5BJTQIXCM33  \n",
       "44   AU34T9OMHN4Z4  \n",
       "45  A3FOKP72T5I4FR  \n",
       "46  A26ERTJPV1A1IM  \n",
       "47  A1M5BJTQIXCM33  \n",
       "48  A308MILZVIA62M  \n",
       "49  A39AXTTH0QVFA3  "
      ]
     },
     "execution_count": 23,
     "metadata": {},
     "output_type": "execute_result"
    }
   ],
   "source": [
    "st3_df.head(50)"
   ]
  },
  {
   "cell_type": "code",
   "execution_count": null,
   "metadata": {
    "collapsed": true,
    "hidden": true,
    "run_control": {
     "frozen": false,
     "read_only": false
    }
   },
   "outputs": [],
   "source": []
  },
  {
   "cell_type": "code",
   "execution_count": null,
   "metadata": {
    "collapsed": true,
    "hidden": true,
    "run_control": {
     "frozen": false,
     "read_only": false
    }
   },
   "outputs": [],
   "source": []
  },
  {
   "cell_type": "code",
   "execution_count": 158,
   "metadata": {
    "collapsed": true,
    "hidden": true,
    "run_control": {
     "frozen": false,
     "read_only": false
    }
   },
   "outputs": [],
   "source": [
    "st3_df['description_length'] = st3_df['action_description'].apply(lambda x: len(x.split()))"
   ]
  },
  {
   "cell_type": "code",
   "execution_count": 159,
   "metadata": {
    "collapsed": true,
    "hidden": true,
    "run_control": {
     "frozen": false,
     "read_only": false
    }
   },
   "outputs": [],
   "source": [
    "def make_standard_fig(fig_plt, fig_labels=None, outfile='latest_fig.pdf', main_color=None, label_color = '0.25'):\n",
    "    if fig_labels:\n",
    "        if 'fig_title' in fig_labels:\n",
    "            plt.title(fig_labels['fig_title'], fontsize=35, verticalalignment='bottom', color=label_color)\n",
    "        if 'y_label' in fig_labels:\n",
    "            plt.ylabel(fig_labels['y_label'], fontsize=35, labelpad=10, color=label_color)\n",
    "        if 'x_label' in fig_labels:\n",
    "            plt.xlabel(fig_labels['x_label'], fontsize=30, labelpad=10, color=label_color)\n",
    "    plt.tick_params(axis='x', which='major', labelsize=28)\n",
    "    plt.tick_params(axis='y', which='major', labelsize=23)\n",
    "#     plt.savefig(outfile, bbox_inches='tight')"
   ]
  },
  {
   "cell_type": "code",
   "execution_count": 160,
   "metadata": {
    "collapsed": true,
    "hidden": true,
    "run_control": {
     "frozen": false,
     "read_only": false
    }
   },
   "outputs": [],
   "source": [
    "fig_labels = {\n",
    "    'fig_title': '# Description Lengths', \n",
    "    'x_label': '# Words',\n",
    "    'y_label': '# Videos'\n",
    "}"
   ]
  },
  {
   "cell_type": "code",
   "execution_count": 161,
   "metadata": {
    "hidden": true,
    "run_control": {
     "frozen": false,
     "read_only": false
    }
   },
   "outputs": [
    {
     "data": {
      "image/png": "[encoded data removed]",
      "text/plain": [
       "<matplotlib.figure.Figure at 0x11ce0a8d0>"
      ]
     },
     "metadata": {},
     "output_type": "display_data"
    }
   ],
   "source": [
    "len_hist = st3_df['description_length'].hist(bins=20)\n",
    "make_standard_fig(len_hist, fig_labels)"
   ]
  },
  {
   "cell_type": "code",
   "execution_count": 162,
   "metadata": {
    "hidden": true,
    "run_control": {
     "frozen": false,
     "read_only": false
    },
    "scrolled": true
   },
   "outputs": [
    {
     "data": {
      "text/html": [
       "<div>\n",
       "<style>\n",
       "    .dataframe thead tr:only-child th {\n",
       "        text-align: right;\n",
       "    }\n",
       "\n",
       "    .dataframe thead th {\n",
       "        text-align: left;\n",
       "    }\n",
       "\n",
       "    .dataframe tbody tr th {\n",
       "        vertical-align: top;\n",
       "    }\n",
       "</style>\n",
       "<table border=\"1\" class=\"dataframe\">\n",
       "  <thead>\n",
       "    <tr style=\"text-align: right;\">\n",
       "      <th></th>\n",
       "      <th>action_description</th>\n",
       "      <th>asgmt_id</th>\n",
       "      <th>gif_uri</th>\n",
       "      <th>hit_id</th>\n",
       "      <th>image_id</th>\n",
       "      <th>worker_id</th>\n",
       "      <th>description_length</th>\n",
       "    </tr>\n",
       "  </thead>\n",
       "  <tbody>\n",
       "    <tr>\n",
       "      <th>0</th>\n",
       "      <td>Barney is scared by a large orange claw coming...</td>\n",
       "      <td>3BV8HQ2ZZX1SJVMTX82JWO3U1WP6A9</td>\n",
       "      <td>https://s3-us-west-2.amazonaws.com/ai2-vision-...</td>\n",
       "      <td>3EAWOID6MUXEAO5IGC8WUQCVMPG0VO</td>\n",
       "      <td>s_05_e_09_shot_032756_032830</td>\n",
       "      <td>A1B22TUTP9XR1D</td>\n",
       "      <td>NaN</td>\n",
       "    </tr>\n",
       "    <tr>\n",
       "      <th>1</th>\n",
       "      <td>Old Sheriff man is sitting at a table in the d...</td>\n",
       "      <td>3TMFV4NEP9ECUM8KRSV9YRWCZAFW8T</td>\n",
       "      <td>https://s3-us-west-2.amazonaws.com/ai2-vision-...</td>\n",
       "      <td>3OB6JN3A9RPJKVV8WXQKRQU54M5MRT</td>\n",
       "      <td>s_02_e_02_shot_010182_010256</td>\n",
       "      <td>A11XGDVL8AQ6VL</td>\n",
       "      <td>NaN</td>\n",
       "    </tr>\n",
       "    <tr>\n",
       "      <th>2</th>\n",
       "      <td>Fred and barney stand in the doorway to the ho...</td>\n",
       "      <td>3KGTPGBS6YLOG3HQGB776CYCSUE2UZ</td>\n",
       "      <td>https://s3-us-west-2.amazonaws.com/ai2-vision-...</td>\n",
       "      <td>3IHWR4LC7EDR67QLC9MS8GSJXLWI8W</td>\n",
       "      <td>s_02_e_07_shot_009401_009475</td>\n",
       "      <td>A2DRV5CGGW5HTK</td>\n",
       "      <td>NaN</td>\n",
       "    </tr>\n",
       "    <tr>\n",
       "      <th>3</th>\n",
       "      <td>Wilma and Fred are standing by the doorway. Wi...</td>\n",
       "      <td>3GA6AFUKOPO8WZ7PKCED67EE4043H2</td>\n",
       "      <td>https://s3-us-west-2.amazonaws.com/ai2-vision-...</td>\n",
       "      <td>3V7ICJJAZBGG0YPDUW4Y5H8109FB48</td>\n",
       "      <td>s_03_e_02_shot_033009_033083</td>\n",
       "      <td>AAI32CU3ZUGGV</td>\n",
       "      <td>NaN</td>\n",
       "    </tr>\n",
       "    <tr>\n",
       "      <th>4</th>\n",
       "      <td>Wilma is in a bedroom.  She is crying in bed. ...</td>\n",
       "      <td>3TVSS0C0E20VS608UQ64PNSZDNVWTD</td>\n",
       "      <td>https://s3-us-west-2.amazonaws.com/ai2-vision-...</td>\n",
       "      <td>39TX062QX2O2V59AZERXK97N5C7X3I</td>\n",
       "      <td>s_03_e_19_shot_041459_041533</td>\n",
       "      <td>A39AXTTH0QVFA3</td>\n",
       "      <td>NaN</td>\n",
       "    </tr>\n",
       "    <tr>\n",
       "      <th>5</th>\n",
       "      <td>Barney is outside.  His head is wrapped up and...</td>\n",
       "      <td>3VP0C6EFSHWTLWVIUBSO5FYUVDBM66</td>\n",
       "      <td>https://s3-us-west-2.amazonaws.com/ai2-vision-...</td>\n",
       "      <td>3EHIMLB7F8ZRACF16R4784R4X8I8HU</td>\n",
       "      <td>s_03_e_12_shot_012232_012306</td>\n",
       "      <td>A39AXTTH0QVFA3</td>\n",
       "      <td>NaN</td>\n",
       "    </tr>\n",
       "    <tr>\n",
       "      <th>6</th>\n",
       "      <td>A purple dino is standing in the backyard and ...</td>\n",
       "      <td>32RIADZIST4I4449VKVVKQDMRBL4SD</td>\n",
       "      <td>https://s3-us-west-2.amazonaws.com/ai2-vision-...</td>\n",
       "      <td>37VUR2VJ6BPII4K0LEHRI37G6A61CT</td>\n",
       "      <td>s_05_e_01_shot_023023_023097</td>\n",
       "      <td>AAI32CU3ZUGGV</td>\n",
       "      <td>NaN</td>\n",
       "    </tr>\n",
       "    <tr>\n",
       "      <th>7</th>\n",
       "      <td>A man in orange tunic is walking in the street...</td>\n",
       "      <td>37WLF8U1WQQYV8VF9ZF8Q26Q68C6KH</td>\n",
       "      <td>https://s3-us-west-2.amazonaws.com/ai2-vision-...</td>\n",
       "      <td>3X0EMNLXEQPHY592XXNM9RD3UXRPVJ</td>\n",
       "      <td>s_01_e_07_shot_027419_027493</td>\n",
       "      <td>A164LU3V7YITK7</td>\n",
       "      <td>NaN</td>\n",
       "    </tr>\n",
       "    <tr>\n",
       "      <th>8</th>\n",
       "      <td>Fred walks up to creepella gruesome in the roo...</td>\n",
       "      <td>3JBT3HLQF921U9C6OWHRJHLK5MIZP5</td>\n",
       "      <td>https://s3-us-west-2.amazonaws.com/ai2-vision-...</td>\n",
       "      <td>3XBXDSS889JJB9ZZ5KVXGV145YZLXL</td>\n",
       "      <td>s_05_e_09_shot_041787_041861</td>\n",
       "      <td>A37X1GHLB2HCX7</td>\n",
       "      <td>NaN</td>\n",
       "    </tr>\n",
       "    <tr>\n",
       "      <th>9</th>\n",
       "      <td>Fred stands behind a lady in a blue dress who ...</td>\n",
       "      <td>3U0SRXB7CE5SPXE2Y0AMTPEQWQVRN5</td>\n",
       "      <td>https://s3-us-west-2.amazonaws.com/ai2-vision-...</td>\n",
       "      <td>3421H3BM9BHNFNT1ZJD6KD2UU62J9X</td>\n",
       "      <td>s_06_e_23_shot_012023_012097</td>\n",
       "      <td>A4UVNGSXE2ANA</td>\n",
       "      <td>NaN</td>\n",
       "    </tr>\n",
       "    <tr>\n",
       "      <th>10</th>\n",
       "      <td>Mr Slate and Fred are standing outdoors. They ...</td>\n",
       "      <td>3Y5140Z9DYGFZJNWOST5JMIU997IPI</td>\n",
       "      <td>https://s3-us-west-2.amazonaws.com/ai2-vision-...</td>\n",
       "      <td>3O4VWC1GEX610L4LIACWT0Z8UESJ3G</td>\n",
       "      <td>s_02_e_02_shot_018423_018497</td>\n",
       "      <td>A308MILZVIA62M</td>\n",
       "      <td>NaN</td>\n",
       "    </tr>\n",
       "    <tr>\n",
       "      <th>11</th>\n",
       "      <td>Baby Puss is outside. He shivers and grasps hi...</td>\n",
       "      <td>3U5NZHP4LS2F3OCCIABKJAHF9WRPHV</td>\n",
       "      <td>https://s3-us-west-2.amazonaws.com/ai2-vision-...</td>\n",
       "      <td>311HQEI8RTG91JAC28I8UBZEIEQZ7L</td>\n",
       "      <td>s_04_e_07_shot_019316_019390</td>\n",
       "      <td>A164LU3V7YITK7</td>\n",
       "      <td>NaN</td>\n",
       "    </tr>\n",
       "    <tr>\n",
       "      <th>12</th>\n",
       "      <td>Fred, Mr Slate, and Man Wearing Baseball Unifo...</td>\n",
       "      <td>39RP059MEITZR8CDQ29WGVKM9EFBM9</td>\n",
       "      <td>https://s3-us-west-2.amazonaws.com/ai2-vision-...</td>\n",
       "      <td>3X7837UUAEY0X4R31CAU03BS45U6J9</td>\n",
       "      <td>s_04_e_08_shot_021734_021808</td>\n",
       "      <td>A1BJ2D8XQMYG4I</td>\n",
       "      <td>NaN</td>\n",
       "    </tr>\n",
       "    <tr>\n",
       "      <th>13</th>\n",
       "      <td>Barney is outside talking to his friend. Barne...</td>\n",
       "      <td>317HQ483I8SFWYBJ8DGDFXDZ9UCINS</td>\n",
       "      <td>https://s3-us-west-2.amazonaws.com/ai2-vision-...</td>\n",
       "      <td>3XBYQ44Z6Q4S5M2E4O1203XEQ9EWT5</td>\n",
       "      <td>s_01_e_02_shot_003934_004008</td>\n",
       "      <td>A1I1VA0OBAZ2HH</td>\n",
       "      <td>NaN</td>\n",
       "    </tr>\n",
       "    <tr>\n",
       "      <th>14</th>\n",
       "      <td>Wilma and Barney are in the living room. Barne...</td>\n",
       "      <td>32AT8R96GM9HL2YOAQMDXUBGQO0SUF</td>\n",
       "      <td>https://s3-us-west-2.amazonaws.com/ai2-vision-...</td>\n",
       "      <td>37SDSEDINA2G61UN421MGHBXGJK18M</td>\n",
       "      <td>s_01_e_21_shot_031742_031816</td>\n",
       "      <td>A1I1VA0OBAZ2HH</td>\n",
       "      <td>NaN</td>\n",
       "    </tr>\n",
       "    <tr>\n",
       "      <th>15</th>\n",
       "      <td>Wilma and Betty are in the dining room reading...</td>\n",
       "      <td>3KKG4CDWKJY0ZP8AMEV43V8WZNV946</td>\n",
       "      <td>https://s3-us-west-2.amazonaws.com/ai2-vision-...</td>\n",
       "      <td>3A3KKYU7P4HOSRCUVR0QEP2MW1IMWU</td>\n",
       "      <td>s_06_e_25_shot_006941_007015</td>\n",
       "      <td>AMA4SXSYNC35I</td>\n",
       "      <td>NaN</td>\n",
       "    </tr>\n",
       "    <tr>\n",
       "      <th>16</th>\n",
       "      <td>Dino suddenly ducks for cover on the living ro...</td>\n",
       "      <td>3C5W7UE9CGQ64BFEVY1E5SBESH7XM8</td>\n",
       "      <td>https://s3-us-west-2.amazonaws.com/ai2-vision-...</td>\n",
       "      <td>3DGDV62G7P981EB09N3B7MGSXZZ2PP</td>\n",
       "      <td>s_03_e_25_shot_025813_025887</td>\n",
       "      <td>A1M5BJTQIXCM33</td>\n",
       "      <td>NaN</td>\n",
       "    </tr>\n",
       "    <tr>\n",
       "      <th>17</th>\n",
       "      <td>Fred is walking and talking at the same time i...</td>\n",
       "      <td>3P59JYT76MK9GQ21G6HX1GCA9GX2TY</td>\n",
       "      <td>https://s3-us-west-2.amazonaws.com/ai2-vision-...</td>\n",
       "      <td>36QZ6V158ADEYI0UKOHB8AGV3AOSUC</td>\n",
       "      <td>s_02_e_17_shot_033242_033316</td>\n",
       "      <td>AQ5RV9HW7U6ID</td>\n",
       "      <td>NaN</td>\n",
       "    </tr>\n",
       "    <tr>\n",
       "      <th>18</th>\n",
       "      <td>Wilma and Betty are looking behind a curtain i...</td>\n",
       "      <td>304SM51WA442P3PIAZ5IS4JS137SBC</td>\n",
       "      <td>https://s3-us-west-2.amazonaws.com/ai2-vision-...</td>\n",
       "      <td>39WICJI5AUSR009P0WFIHUNYDC5Z3H</td>\n",
       "      <td>s_02_e_31_shot_035449_035523</td>\n",
       "      <td>AAI32CU3ZUGGV</td>\n",
       "      <td>NaN</td>\n",
       "    </tr>\n",
       "    <tr>\n",
       "      <th>19</th>\n",
       "      <td>Woman on tv with napkin tucked in front of her...</td>\n",
       "      <td>3X66WABAJXIUW3CE06WVL72DP0W3G8</td>\n",
       "      <td>https://s3-us-west-2.amazonaws.com/ai2-vision-...</td>\n",
       "      <td>3ZXNP4Z39SLPWUT8N7RZMWOG35JL7P</td>\n",
       "      <td>s_03_e_02_shot_003600_003674</td>\n",
       "      <td>A1I1VA0OBAZ2HH</td>\n",
       "      <td>NaN</td>\n",
       "    </tr>\n",
       "    <tr>\n",
       "      <th>20</th>\n",
       "      <td>Wilma is in a room.  She is talking on the pho...</td>\n",
       "      <td>3AUQQEL7U6THX83C6EDYJA7G93YV0S</td>\n",
       "      <td>https://s3-us-west-2.amazonaws.com/ai2-vision-...</td>\n",
       "      <td>37S0QRNUFCGYH1E83NA1VRY5UPR88E</td>\n",
       "      <td>s_04_e_05_shot_032472_032546</td>\n",
       "      <td>A29RJVVL54THB5</td>\n",
       "      <td>NaN</td>\n",
       "    </tr>\n",
       "    <tr>\n",
       "      <th>21</th>\n",
       "      <td>Fred is laying down on the floor of the room.</td>\n",
       "      <td>32UTUBMZ7HWIHV6M4UAN3R3Z07RBVQ</td>\n",
       "      <td>https://s3-us-west-2.amazonaws.com/ai2-vision-...</td>\n",
       "      <td>3SNR5F7R93T8F80CPC8S0QO58OTEIQ</td>\n",
       "      <td>s_03_e_25_shot_014751_014825</td>\n",
       "      <td>A1DINOR5IK1YC4</td>\n",
       "      <td>NaN</td>\n",
       "    </tr>\n",
       "    <tr>\n",
       "      <th>22</th>\n",
       "      <td>Fred is standing in the yard.  He is talking w...</td>\n",
       "      <td>3XLBSAQ9Z5CCO386SANAJVUZ5SEZ70</td>\n",
       "      <td>https://s3-us-west-2.amazonaws.com/ai2-vision-...</td>\n",
       "      <td>3VP28W7DUOKMGCPIKRGKI3CVG2CFZ8</td>\n",
       "      <td>s_04_e_06_shot_022396_022470</td>\n",
       "      <td>A39AXTTH0QVFA3</td>\n",
       "      <td>NaN</td>\n",
       "    </tr>\n",
       "    <tr>\n",
       "      <th>23</th>\n",
       "      <td>Blue dino with green mouth is outside walking ...</td>\n",
       "      <td>3XIQGXAUMD8NJ88RRSZPMAEOXSAX7V</td>\n",
       "      <td>https://s3-us-west-2.amazonaws.com/ai2-vision-...</td>\n",
       "      <td>31HLTCK4BMVBLSG3UEXZFIZBT64VGL</td>\n",
       "      <td>s_02_e_12_shot_026983_027057</td>\n",
       "      <td>A3KP151PRRZFIF</td>\n",
       "      <td>NaN</td>\n",
       "    </tr>\n",
       "    <tr>\n",
       "      <th>24</th>\n",
       "      <td>Barney sits in the living room, while Fred sta...</td>\n",
       "      <td>3VJ40NV2QJNNNXR634FU8TFDALROTO</td>\n",
       "      <td>https://s3-us-west-2.amazonaws.com/ai2-vision-...</td>\n",
       "      <td>3JMNNNO3B24YLN81L9H6ZGOOQW12WJ</td>\n",
       "      <td>s_02_e_14_shot_033088_033162</td>\n",
       "      <td>A132MSWBBVTOES</td>\n",
       "      <td>NaN</td>\n",
       "    </tr>\n",
       "    <tr>\n",
       "      <th>25</th>\n",
       "      <td>Fred is at the quarry speaking.</td>\n",
       "      <td>3BEFOD78W7TF69R4BNZ98HEGZM04MY</td>\n",
       "      <td>https://s3-us-west-2.amazonaws.com/ai2-vision-...</td>\n",
       "      <td>38EHZ67RINSSV5MUGMW8SMGY2DSGMP</td>\n",
       "      <td>s_01_e_06_shot_008943_009017</td>\n",
       "      <td>A3KP151PRRZFIF</td>\n",
       "      <td>NaN</td>\n",
       "    </tr>\n",
       "    <tr>\n",
       "      <th>26</th>\n",
       "      <td>Mr Slate stands outside in a purple shirt with...</td>\n",
       "      <td>3RXPCZQMQQBYM0YZD2ICXENGRGDG1O</td>\n",
       "      <td>https://s3-us-west-2.amazonaws.com/ai2-vision-...</td>\n",
       "      <td>3X878VYTIFI3W2JC1WO1RJJW69XF7E</td>\n",
       "      <td>s_03_e_05_shot_035214_035288</td>\n",
       "      <td>A20DQZTIIISMS8</td>\n",
       "      <td>NaN</td>\n",
       "    </tr>\n",
       "    <tr>\n",
       "      <th>27</th>\n",
       "      <td>Fred and Dino are outside.  They are walking s...</td>\n",
       "      <td>3I7DHKZYGO0RWI3N35E6IJ0L2HGF54</td>\n",
       "      <td>https://s3-us-west-2.amazonaws.com/ai2-vision-...</td>\n",
       "      <td>3WUVMVA7OC3RKL8A9BUS4214JMWZAC</td>\n",
       "      <td>s_02_e_13_shot_000572_000646</td>\n",
       "      <td>A3J0ALXC5LRSSG</td>\n",
       "      <td>NaN</td>\n",
       "    </tr>\n",
       "    <tr>\n",
       "      <th>28</th>\n",
       "      <td>A red head woman in hat drags Fred through the...</td>\n",
       "      <td>3WJ1OXY92BGFN95HQNZHG2ZL7R9A8T</td>\n",
       "      <td>https://s3-us-west-2.amazonaws.com/ai2-vision-...</td>\n",
       "      <td>3NI0WFPPIAGTVYQHF40OIYWW5WO602</td>\n",
       "      <td>s_02_e_26_shot_044814_044888</td>\n",
       "      <td>A308MILZVIA62M</td>\n",
       "      <td>NaN</td>\n",
       "    </tr>\n",
       "    <tr>\n",
       "      <th>29</th>\n",
       "      <td>Fred is standing next to a table in the room w...</td>\n",
       "      <td>3H8DHMCCWABXGHAUJMNMW8GINUTDKA</td>\n",
       "      <td>https://s3-us-west-2.amazonaws.com/ai2-vision-...</td>\n",
       "      <td>33EEIIWHK872YHAHXA2B9W3DZTCVQF</td>\n",
       "      <td>s_02_e_03_shot_005942_006016</td>\n",
       "      <td>A37X1GHLB2HCX7</td>\n",
       "      <td>NaN</td>\n",
       "    </tr>\n",
       "    <tr>\n",
       "      <th>30</th>\n",
       "      <td>Fred is outside lying on the ground.</td>\n",
       "      <td>3WYP994K18RTFDKWDEGZZAL14NM6YD</td>\n",
       "      <td>https://s3-us-west-2.amazonaws.com/ai2-vision-...</td>\n",
       "      <td>3TKXBROM5UAGQOM43DJJX61XDWPIJF</td>\n",
       "      <td>s_03_e_08_shot_023793_023867</td>\n",
       "      <td>A147TNM8V7BU92</td>\n",
       "      <td>NaN</td>\n",
       "    </tr>\n",
       "    <tr>\n",
       "      <th>31</th>\n",
       "      <td>In his yard, Fred walks in a straight line tal...</td>\n",
       "      <td>3YWRV122CTZZ2IJFWSG8G3BFEUTU8H</td>\n",
       "      <td>https://s3-us-west-2.amazonaws.com/ai2-vision-...</td>\n",
       "      <td>3X7837UUAEY0X4R31CAU03BS45UJ6M</td>\n",
       "      <td>s_06_e_21_shot_015565_015639</td>\n",
       "      <td>A1M5BJTQIXCM33</td>\n",
       "      <td>NaN</td>\n",
       "    </tr>\n",
       "    <tr>\n",
       "      <th>32</th>\n",
       "      <td>Wilma and Dino are standing in the living room...</td>\n",
       "      <td>3QY7M81QH8MHZ89KS9K0WG6M1JQK7O</td>\n",
       "      <td>https://s3-us-west-2.amazonaws.com/ai2-vision-...</td>\n",
       "      <td>3HA5ODM5KBSEBXPUPERG4WIEHHXSV1</td>\n",
       "      <td>s_03_e_18_shot_035134_035208</td>\n",
       "      <td>AAI32CU3ZUGGV</td>\n",
       "      <td>NaN</td>\n",
       "    </tr>\n",
       "    <tr>\n",
       "      <th>33</th>\n",
       "      <td>Wilma is moving the curtains in the living roo...</td>\n",
       "      <td>3R6BYFZZP8C0Y1NX9BX1A2R5VGRXFX</td>\n",
       "      <td>https://s3-us-west-2.amazonaws.com/ai2-vision-...</td>\n",
       "      <td>37PGLWGSJU6B18SMLYJVYL1ASLPIKE</td>\n",
       "      <td>s_01_e_17_shot_029278_029352</td>\n",
       "      <td>AQ5RV9HW7U6ID</td>\n",
       "      <td>NaN</td>\n",
       "    </tr>\n",
       "    <tr>\n",
       "      <th>34</th>\n",
       "      <td>Fred and Barney are in the living room.  Fred ...</td>\n",
       "      <td>3LUY3GC6300IAZ6051P8SXSLVT27PI</td>\n",
       "      <td>https://s3-us-west-2.amazonaws.com/ai2-vision-...</td>\n",
       "      <td>39TX062QX2O2V59AZERXK97N5C73XO</td>\n",
       "      <td>s_03_e_23_shot_017798_017872</td>\n",
       "      <td>A39AXTTH0QVFA3</td>\n",
       "      <td>NaN</td>\n",
       "    </tr>\n",
       "    <tr>\n",
       "      <th>35</th>\n",
       "      <td>Mr slate is talking to himself looking at some...</td>\n",
       "      <td>3TAYZSBPLM881QPMR6C7RBGO7XL2SB</td>\n",
       "      <td>https://s3-us-west-2.amazonaws.com/ai2-vision-...</td>\n",
       "      <td>3ZXV7Q5FJCO98JE8SDWC75BA7KOCF4</td>\n",
       "      <td>s_06_e_09_shot_034782_034856</td>\n",
       "      <td>AQ5RV9HW7U6ID</td>\n",
       "      <td>NaN</td>\n",
       "    </tr>\n",
       "    <tr>\n",
       "      <th>36</th>\n",
       "      <td>Fred is laying in a hammock in the yard. He ta...</td>\n",
       "      <td>33FBRBDW6PZ3GO2FA1V8MXP97UR8CQ</td>\n",
       "      <td>https://s3-us-west-2.amazonaws.com/ai2-vision-...</td>\n",
       "      <td>32FESTC2NIQYR1BYN2RBT5CDH73CU3</td>\n",
       "      <td>s_01_e_17_shot_004477_004551</td>\n",
       "      <td>A33CY9EY50SSLI</td>\n",
       "      <td>NaN</td>\n",
       "    </tr>\n",
       "    <tr>\n",
       "      <th>37</th>\n",
       "      <td>Betty and Wilma are in the yard. They are each...</td>\n",
       "      <td>3ZOTGHDK5JBM8XERE4A4YOJR82IOS4</td>\n",
       "      <td>https://s3-us-west-2.amazonaws.com/ai2-vision-...</td>\n",
       "      <td>36FQTHX3Z4RVI269UIZFVCGVM9JB3N</td>\n",
       "      <td>s_01_e_24_shot_013398_013472</td>\n",
       "      <td>A3FOKP72T5I4FR</td>\n",
       "      <td>NaN</td>\n",
       "    </tr>\n",
       "    <tr>\n",
       "      <th>38</th>\n",
       "      <td>Wilma is in the bedroom. She is sitting in bed...</td>\n",
       "      <td>3J4Q2Z4UTZ3I0Q8GDMC9KIHCTG1QWY</td>\n",
       "      <td>https://s3-us-west-2.amazonaws.com/ai2-vision-...</td>\n",
       "      <td>3JTPR5MTZTCZPKX7EE019CX5NZJK56</td>\n",
       "      <td>s_02_e_31_shot_026422_026496</td>\n",
       "      <td>A1BJ2D8XQMYG4I</td>\n",
       "      <td>NaN</td>\n",
       "    </tr>\n",
       "    <tr>\n",
       "      <th>39</th>\n",
       "      <td>Fred and Barney are in a room. Fred is lying o...</td>\n",
       "      <td>3C6FJU71TRTEHOAX9WE2FGZH79XYU0</td>\n",
       "      <td>https://s3-us-west-2.amazonaws.com/ai2-vision-...</td>\n",
       "      <td>3PEG1BH7AFR1E0EGFORECYXXXV5BKY</td>\n",
       "      <td>s_01_e_01_shot_018227_018301</td>\n",
       "      <td>A1BJ2D8XQMYG4I</td>\n",
       "      <td>NaN</td>\n",
       "    </tr>\n",
       "    <tr>\n",
       "      <th>40</th>\n",
       "      <td>Fred and Barney sit in a bowling alley on a co...</td>\n",
       "      <td>3NLZY2D53QP2PWWH9857B70WV9QLQT</td>\n",
       "      <td>https://s3-us-west-2.amazonaws.com/ai2-vision-...</td>\n",
       "      <td>371QPA24C3OZ4LMB70CH7D7KUW51TB</td>\n",
       "      <td>s_02_e_06_shot_028094_028168</td>\n",
       "      <td>A20DQZTIIISMS8</td>\n",
       "      <td>NaN</td>\n",
       "    </tr>\n",
       "    <tr>\n",
       "      <th>41</th>\n",
       "      <td>Fred and barney are in the yard with a martian...</td>\n",
       "      <td>3HWRJOOET620W612KQ78TCPD40JSEB</td>\n",
       "      <td>https://s3-us-west-2.amazonaws.com/ai2-vision-...</td>\n",
       "      <td>3WKGUBL7S0MSD7BPL9TSJK46C3UL46</td>\n",
       "      <td>s_06_e_17_shot_016643_016717</td>\n",
       "      <td>A1ZQF173191T3P</td>\n",
       "      <td>NaN</td>\n",
       "    </tr>\n",
       "    <tr>\n",
       "      <th>42</th>\n",
       "      <td>Fred is standing in a room.  He is talking to ...</td>\n",
       "      <td>3AMYWKA6YCMHLZGU7R71XJNZQDJ6OY</td>\n",
       "      <td>https://s3-us-west-2.amazonaws.com/ai2-vision-...</td>\n",
       "      <td>3MA5N0ATTDBT23CRAFNAZCAI7WMWKY</td>\n",
       "      <td>s_02_e_14_shot_007267_007341</td>\n",
       "      <td>A2LH2CAU6CXVW</td>\n",
       "      <td>NaN</td>\n",
       "    </tr>\n",
       "    <tr>\n",
       "      <th>43</th>\n",
       "      <td>Wilma is standing around the dining room table...</td>\n",
       "      <td>3Y9N9SS8LZBRKJ2NYGVNFMZGC873DP</td>\n",
       "      <td>https://s3-us-west-2.amazonaws.com/ai2-vision-...</td>\n",
       "      <td>3DA79LNS5AVVEO0QU4Q0V6MHSGIT3U</td>\n",
       "      <td>s_03_e_15_shot_034402_034476</td>\n",
       "      <td>A1M5BJTQIXCM33</td>\n",
       "      <td>NaN</td>\n",
       "    </tr>\n",
       "    <tr>\n",
       "      <th>44</th>\n",
       "      <td>Wilma and mr slate are in a room.  Wilma is ta...</td>\n",
       "      <td>3AQF3RZ559INFM318OOBAPELYCB6FV</td>\n",
       "      <td>https://s3-us-west-2.amazonaws.com/ai2-vision-...</td>\n",
       "      <td>3BFF0DJK8YCZY5L5KJR13EUTKWISTM</td>\n",
       "      <td>s_01_e_10_shot_022286_022360</td>\n",
       "      <td>AU34T9OMHN4Z4</td>\n",
       "      <td>NaN</td>\n",
       "    </tr>\n",
       "    <tr>\n",
       "      <th>45</th>\n",
       "      <td>Fred and Barney are sitting in the front yard....</td>\n",
       "      <td>35DR22AR5EK5IP74PGWZ9T28SQJX3L</td>\n",
       "      <td>https://s3-us-west-2.amazonaws.com/ai2-vision-...</td>\n",
       "      <td>3A520CCNWO0T9QHEDOGFJS0MVGOEAM</td>\n",
       "      <td>s_01_e_20_shot_010446_010520</td>\n",
       "      <td>A3FOKP72T5I4FR</td>\n",
       "      <td>NaN</td>\n",
       "    </tr>\n",
       "    <tr>\n",
       "      <th>46</th>\n",
       "      <td>Dino is standing on Barney at the doorway and ...</td>\n",
       "      <td>3QAPZX2QN5D80H5AI4TNH5A5C5420Q</td>\n",
       "      <td>https://s3-us-west-2.amazonaws.com/ai2-vision-...</td>\n",
       "      <td>34R0BODSP2ZW3K5XISPYBHK032O5E8</td>\n",
       "      <td>s_03_e_07_shot_018249_018323</td>\n",
       "      <td>A26ERTJPV1A1IM</td>\n",
       "      <td>NaN</td>\n",
       "    </tr>\n",
       "    <tr>\n",
       "      <th>47</th>\n",
       "      <td>Wilma is standing in the living room. After fi...</td>\n",
       "      <td>3IHR8NYAM81LRCOH33R1PL8B4RDP4H</td>\n",
       "      <td>https://s3-us-west-2.amazonaws.com/ai2-vision-...</td>\n",
       "      <td>375VMB7D4KJ3N2MCTHX8U86K8CTDIX</td>\n",
       "      <td>s_02_e_18_shot_043404_043478</td>\n",
       "      <td>A1M5BJTQIXCM33</td>\n",
       "      <td>NaN</td>\n",
       "    </tr>\n",
       "    <tr>\n",
       "      <th>48</th>\n",
       "      <td>Fred is in a room. He writes on a clipboard wi...</td>\n",
       "      <td>3TXMY6UCAFO9MS2BWVC88OA910DCQ5</td>\n",
       "      <td>https://s3-us-west-2.amazonaws.com/ai2-vision-...</td>\n",
       "      <td>34XASH8KLRMY8IFTJ5MVMVUQ34FMPZ</td>\n",
       "      <td>s_06_e_17_shot_006776_006850</td>\n",
       "      <td>A308MILZVIA62M</td>\n",
       "      <td>NaN</td>\n",
       "    </tr>\n",
       "    <tr>\n",
       "      <th>49</th>\n",
       "      <td>Fred is holding Pebbles in a room.  Fred is ta...</td>\n",
       "      <td>3ON104KXQLWBBLLIFP5WHFG7XOJW4M</td>\n",
       "      <td>https://s3-us-west-2.amazonaws.com/ai2-vision-...</td>\n",
       "      <td>30Z7M1Q8UZKC0P7N0LUFRI40KDSA8L</td>\n",
       "      <td>s_03_e_25_shot_018139_018213</td>\n",
       "      <td>A39AXTTH0QVFA3</td>\n",
       "      <td>NaN</td>\n",
       "    </tr>\n",
       "  </tbody>\n",
       "</table>\n",
       "</div>"
      ],
      "text/plain": [
       "                                   action_description  \\\n",
       "0   Barney is scared by a large orange claw coming...   \n",
       "1   Old Sheriff man is sitting at a table in the d...   \n",
       "2   Fred and barney stand in the doorway to the ho...   \n",
       "3   Wilma and Fred are standing by the doorway. Wi...   \n",
       "4   Wilma is in a bedroom.  She is crying in bed. ...   \n",
       "5   Barney is outside.  His head is wrapped up and...   \n",
       "6   A purple dino is standing in the backyard and ...   \n",
       "7   A man in orange tunic is walking in the street...   \n",
       "8   Fred walks up to creepella gruesome in the roo...   \n",
       "9   Fred stands behind a lady in a blue dress who ...   \n",
       "10  Mr Slate and Fred are standing outdoors. They ...   \n",
       "11  Baby Puss is outside. He shivers and grasps hi...   \n",
       "12  Fred, Mr Slate, and Man Wearing Baseball Unifo...   \n",
       "13  Barney is outside talking to his friend. Barne...   \n",
       "14  Wilma and Barney are in the living room. Barne...   \n",
       "15  Wilma and Betty are in the dining room reading...   \n",
       "16  Dino suddenly ducks for cover on the living ro...   \n",
       "17  Fred is walking and talking at the same time i...   \n",
       "18  Wilma and Betty are looking behind a curtain i...   \n",
       "19  Woman on tv with napkin tucked in front of her...   \n",
       "20  Wilma is in a room.  She is talking on the pho...   \n",
       "21      Fred is laying down on the floor of the room.   \n",
       "22  Fred is standing in the yard.  He is talking w...   \n",
       "23  Blue dino with green mouth is outside walking ...   \n",
       "24  Barney sits in the living room, while Fred sta...   \n",
       "25                   Fred is at the quarry speaking.    \n",
       "26  Mr Slate stands outside in a purple shirt with...   \n",
       "27  Fred and Dino are outside.  They are walking s...   \n",
       "28  A red head woman in hat drags Fred through the...   \n",
       "29  Fred is standing next to a table in the room w...   \n",
       "30               Fred is outside lying on the ground.   \n",
       "31  In his yard, Fred walks in a straight line tal...   \n",
       "32  Wilma and Dino are standing in the living room...   \n",
       "33  Wilma is moving the curtains in the living roo...   \n",
       "34  Fred and Barney are in the living room.  Fred ...   \n",
       "35  Mr slate is talking to himself looking at some...   \n",
       "36  Fred is laying in a hammock in the yard. He ta...   \n",
       "37  Betty and Wilma are in the yard. They are each...   \n",
       "38  Wilma is in the bedroom. She is sitting in bed...   \n",
       "39  Fred and Barney are in a room. Fred is lying o...   \n",
       "40  Fred and Barney sit in a bowling alley on a co...   \n",
       "41  Fred and barney are in the yard with a martian...   \n",
       "42  Fred is standing in a room.  He is talking to ...   \n",
       "43  Wilma is standing around the dining room table...   \n",
       "44  Wilma and mr slate are in a room.  Wilma is ta...   \n",
       "45  Fred and Barney are sitting in the front yard....   \n",
       "46  Dino is standing on Barney at the doorway and ...   \n",
       "47  Wilma is standing in the living room. After fi...   \n",
       "48  Fred is in a room. He writes on a clipboard wi...   \n",
       "49  Fred is holding Pebbles in a room.  Fred is ta...   \n",
       "\n",
       "                          asgmt_id  \\\n",
       "0   3BV8HQ2ZZX1SJVMTX82JWO3U1WP6A9   \n",
       "1   3TMFV4NEP9ECUM8KRSV9YRWCZAFW8T   \n",
       "2   3KGTPGBS6YLOG3HQGB776CYCSUE2UZ   \n",
       "3   3GA6AFUKOPO8WZ7PKCED67EE4043H2   \n",
       "4   3TVSS0C0E20VS608UQ64PNSZDNVWTD   \n",
       "5   3VP0C6EFSHWTLWVIUBSO5FYUVDBM66   \n",
       "6   32RIADZIST4I4449VKVVKQDMRBL4SD   \n",
       "7   37WLF8U1WQQYV8VF9ZF8Q26Q68C6KH   \n",
       "8   3JBT3HLQF921U9C6OWHRJHLK5MIZP5   \n",
       "9   3U0SRXB7CE5SPXE2Y0AMTPEQWQVRN5   \n",
       "10  3Y5140Z9DYGFZJNWOST5JMIU997IPI   \n",
       "11  3U5NZHP4LS2F3OCCIABKJAHF9WRPHV   \n",
       "12  39RP059MEITZR8CDQ29WGVKM9EFBM9   \n",
       "13  317HQ483I8SFWYBJ8DGDFXDZ9UCINS   \n",
       "14  32AT8R96GM9HL2YOAQMDXUBGQO0SUF   \n",
       "15  3KKG4CDWKJY0ZP8AMEV43V8WZNV946   \n",
       "16  3C5W7UE9CGQ64BFEVY1E5SBESH7XM8   \n",
       "17  3P59JYT76MK9GQ21G6HX1GCA9GX2TY   \n",
       "18  304SM51WA442P3PIAZ5IS4JS137SBC   \n",
       "19  3X66WABAJXIUW3CE06WVL72DP0W3G8   \n",
       "20  3AUQQEL7U6THX83C6EDYJA7G93YV0S   \n",
       "21  32UTUBMZ7HWIHV6M4UAN3R3Z07RBVQ   \n",
       "22  3XLBSAQ9Z5CCO386SANAJVUZ5SEZ70   \n",
       "23  3XIQGXAUMD8NJ88RRSZPMAEOXSAX7V   \n",
       "24  3VJ40NV2QJNNNXR634FU8TFDALROTO   \n",
       "25  3BEFOD78W7TF69R4BNZ98HEGZM04MY   \n",
       "26  3RXPCZQMQQBYM0YZD2ICXENGRGDG1O   \n",
       "27  3I7DHKZYGO0RWI3N35E6IJ0L2HGF54   \n",
       "28  3WJ1OXY92BGFN95HQNZHG2ZL7R9A8T   \n",
       "29  3H8DHMCCWABXGHAUJMNMW8GINUTDKA   \n",
       "30  3WYP994K18RTFDKWDEGZZAL14NM6YD   \n",
       "31  3YWRV122CTZZ2IJFWSG8G3BFEUTU8H   \n",
       "32  3QY7M81QH8MHZ89KS9K0WG6M1JQK7O   \n",
       "33  3R6BYFZZP8C0Y1NX9BX1A2R5VGRXFX   \n",
       "34  3LUY3GC6300IAZ6051P8SXSLVT27PI   \n",
       "35  3TAYZSBPLM881QPMR6C7RBGO7XL2SB   \n",
       "36  33FBRBDW6PZ3GO2FA1V8MXP97UR8CQ   \n",
       "37  3ZOTGHDK5JBM8XERE4A4YOJR82IOS4   \n",
       "38  3J4Q2Z4UTZ3I0Q8GDMC9KIHCTG1QWY   \n",
       "39  3C6FJU71TRTEHOAX9WE2FGZH79XYU0   \n",
       "40  3NLZY2D53QP2PWWH9857B70WV9QLQT   \n",
       "41  3HWRJOOET620W612KQ78TCPD40JSEB   \n",
       "42  3AMYWKA6YCMHLZGU7R71XJNZQDJ6OY   \n",
       "43  3Y9N9SS8LZBRKJ2NYGVNFMZGC873DP   \n",
       "44  3AQF3RZ559INFM318OOBAPELYCB6FV   \n",
       "45  35DR22AR5EK5IP74PGWZ9T28SQJX3L   \n",
       "46  3QAPZX2QN5D80H5AI4TNH5A5C5420Q   \n",
       "47  3IHR8NYAM81LRCOH33R1PL8B4RDP4H   \n",
       "48  3TXMY6UCAFO9MS2BWVC88OA910DCQ5   \n",
       "49  3ON104KXQLWBBLLIFP5WHFG7XOJW4M   \n",
       "\n",
       "                                              gif_uri  \\\n",
       "0   https://s3-us-west-2.amazonaws.com/ai2-vision-...   \n",
       "1   https://s3-us-west-2.amazonaws.com/ai2-vision-...   \n",
       "2   https://s3-us-west-2.amazonaws.com/ai2-vision-...   \n",
       "3   https://s3-us-west-2.amazonaws.com/ai2-vision-...   \n",
       "4   https://s3-us-west-2.amazonaws.com/ai2-vision-...   \n",
       "5   https://s3-us-west-2.amazonaws.com/ai2-vision-...   \n",
       "6   https://s3-us-west-2.amazonaws.com/ai2-vision-...   \n",
       "7   https://s3-us-west-2.amazonaws.com/ai2-vision-...   \n",
       "8   https://s3-us-west-2.amazonaws.com/ai2-vision-...   \n",
       "9   https://s3-us-west-2.amazonaws.com/ai2-vision-...   \n",
       "10  https://s3-us-west-2.amazonaws.com/ai2-vision-...   \n",
       "11  https://s3-us-west-2.amazonaws.com/ai2-vision-...   \n",
       "12  https://s3-us-west-2.amazonaws.com/ai2-vision-...   \n",
       "13  https://s3-us-west-2.amazonaws.com/ai2-vision-...   \n",
       "14  https://s3-us-west-2.amazonaws.com/ai2-vision-...   \n",
       "15  https://s3-us-west-2.amazonaws.com/ai2-vision-...   \n",
       "16  https://s3-us-west-2.amazonaws.com/ai2-vision-...   \n",
       "17  https://s3-us-west-2.amazonaws.com/ai2-vision-...   \n",
       "18  https://s3-us-west-2.amazonaws.com/ai2-vision-...   \n",
       "19  https://s3-us-west-2.amazonaws.com/ai2-vision-...   \n",
       "20  https://s3-us-west-2.amazonaws.com/ai2-vision-...   \n",
       "21  https://s3-us-west-2.amazonaws.com/ai2-vision-...   \n",
       "22  https://s3-us-west-2.amazonaws.com/ai2-vision-...   \n",
       "23  https://s3-us-west-2.amazonaws.com/ai2-vision-...   \n",
       "24  https://s3-us-west-2.amazonaws.com/ai2-vision-...   \n",
       "25  https://s3-us-west-2.amazonaws.com/ai2-vision-...   \n",
       "26  https://s3-us-west-2.amazonaws.com/ai2-vision-...   \n",
       "27  https://s3-us-west-2.amazonaws.com/ai2-vision-...   \n",
       "28  https://s3-us-west-2.amazonaws.com/ai2-vision-...   \n",
       "29  https://s3-us-west-2.amazonaws.com/ai2-vision-...   \n",
       "30  https://s3-us-west-2.amazonaws.com/ai2-vision-...   \n",
       "31  https://s3-us-west-2.amazonaws.com/ai2-vision-...   \n",
       "32  https://s3-us-west-2.amazonaws.com/ai2-vision-...   \n",
       "33  https://s3-us-west-2.amazonaws.com/ai2-vision-...   \n",
       "34  https://s3-us-west-2.amazonaws.com/ai2-vision-...   \n",
       "35  https://s3-us-west-2.amazonaws.com/ai2-vision-...   \n",
       "36  https://s3-us-west-2.amazonaws.com/ai2-vision-...   \n",
       "37  https://s3-us-west-2.amazonaws.com/ai2-vision-...   \n",
       "38  https://s3-us-west-2.amazonaws.com/ai2-vision-...   \n",
       "39  https://s3-us-west-2.amazonaws.com/ai2-vision-...   \n",
       "40  https://s3-us-west-2.amazonaws.com/ai2-vision-...   \n",
       "41  https://s3-us-west-2.amazonaws.com/ai2-vision-...   \n",
       "42  https://s3-us-west-2.amazonaws.com/ai2-vision-...   \n",
       "43  https://s3-us-west-2.amazonaws.com/ai2-vision-...   \n",
       "44  https://s3-us-west-2.amazonaws.com/ai2-vision-...   \n",
       "45  https://s3-us-west-2.amazonaws.com/ai2-vision-...   \n",
       "46  https://s3-us-west-2.amazonaws.com/ai2-vision-...   \n",
       "47  https://s3-us-west-2.amazonaws.com/ai2-vision-...   \n",
       "48  https://s3-us-west-2.amazonaws.com/ai2-vision-...   \n",
       "49  https://s3-us-west-2.amazonaws.com/ai2-vision-...   \n",
       "\n",
       "                            hit_id                      image_id  \\\n",
       "0   3EAWOID6MUXEAO5IGC8WUQCVMPG0VO  s_05_e_09_shot_032756_032830   \n",
       "1   3OB6JN3A9RPJKVV8WXQKRQU54M5MRT  s_02_e_02_shot_010182_010256   \n",
       "2   3IHWR4LC7EDR67QLC9MS8GSJXLWI8W  s_02_e_07_shot_009401_009475   \n",
       "3   3V7ICJJAZBGG0YPDUW4Y5H8109FB48  s_03_e_02_shot_033009_033083   \n",
       "4   39TX062QX2O2V59AZERXK97N5C7X3I  s_03_e_19_shot_041459_041533   \n",
       "5   3EHIMLB7F8ZRACF16R4784R4X8I8HU  s_03_e_12_shot_012232_012306   \n",
       "6   37VUR2VJ6BPII4K0LEHRI37G6A61CT  s_05_e_01_shot_023023_023097   \n",
       "7   3X0EMNLXEQPHY592XXNM9RD3UXRPVJ  s_01_e_07_shot_027419_027493   \n",
       "8   3XBXDSS889JJB9ZZ5KVXGV145YZLXL  s_05_e_09_shot_041787_041861   \n",
       "9   3421H3BM9BHNFNT1ZJD6KD2UU62J9X  s_06_e_23_shot_012023_012097   \n",
       "10  3O4VWC1GEX610L4LIACWT0Z8UESJ3G  s_02_e_02_shot_018423_018497   \n",
       "11  311HQEI8RTG91JAC28I8UBZEIEQZ7L  s_04_e_07_shot_019316_019390   \n",
       "12  3X7837UUAEY0X4R31CAU03BS45U6J9  s_04_e_08_shot_021734_021808   \n",
       "13  3XBYQ44Z6Q4S5M2E4O1203XEQ9EWT5  s_01_e_02_shot_003934_004008   \n",
       "14  37SDSEDINA2G61UN421MGHBXGJK18M  s_01_e_21_shot_031742_031816   \n",
       "15  3A3KKYU7P4HOSRCUVR0QEP2MW1IMWU  s_06_e_25_shot_006941_007015   \n",
       "16  3DGDV62G7P981EB09N3B7MGSXZZ2PP  s_03_e_25_shot_025813_025887   \n",
       "17  36QZ6V158ADEYI0UKOHB8AGV3AOSUC  s_02_e_17_shot_033242_033316   \n",
       "18  39WICJI5AUSR009P0WFIHUNYDC5Z3H  s_02_e_31_shot_035449_035523   \n",
       "19  3ZXNP4Z39SLPWUT8N7RZMWOG35JL7P  s_03_e_02_shot_003600_003674   \n",
       "20  37S0QRNUFCGYH1E83NA1VRY5UPR88E  s_04_e_05_shot_032472_032546   \n",
       "21  3SNR5F7R93T8F80CPC8S0QO58OTEIQ  s_03_e_25_shot_014751_014825   \n",
       "22  3VP28W7DUOKMGCPIKRGKI3CVG2CFZ8  s_04_e_06_shot_022396_022470   \n",
       "23  31HLTCK4BMVBLSG3UEXZFIZBT64VGL  s_02_e_12_shot_026983_027057   \n",
       "24  3JMNNNO3B24YLN81L9H6ZGOOQW12WJ  s_02_e_14_shot_033088_033162   \n",
       "25  38EHZ67RINSSV5MUGMW8SMGY2DSGMP  s_01_e_06_shot_008943_009017   \n",
       "26  3X878VYTIFI3W2JC1WO1RJJW69XF7E  s_03_e_05_shot_035214_035288   \n",
       "27  3WUVMVA7OC3RKL8A9BUS4214JMWZAC  s_02_e_13_shot_000572_000646   \n",
       "28  3NI0WFPPIAGTVYQHF40OIYWW5WO602  s_02_e_26_shot_044814_044888   \n",
       "29  33EEIIWHK872YHAHXA2B9W3DZTCVQF  s_02_e_03_shot_005942_006016   \n",
       "30  3TKXBROM5UAGQOM43DJJX61XDWPIJF  s_03_e_08_shot_023793_023867   \n",
       "31  3X7837UUAEY0X4R31CAU03BS45UJ6M  s_06_e_21_shot_015565_015639   \n",
       "32  3HA5ODM5KBSEBXPUPERG4WIEHHXSV1  s_03_e_18_shot_035134_035208   \n",
       "33  37PGLWGSJU6B18SMLYJVYL1ASLPIKE  s_01_e_17_shot_029278_029352   \n",
       "34  39TX062QX2O2V59AZERXK97N5C73XO  s_03_e_23_shot_017798_017872   \n",
       "35  3ZXV7Q5FJCO98JE8SDWC75BA7KOCF4  s_06_e_09_shot_034782_034856   \n",
       "36  32FESTC2NIQYR1BYN2RBT5CDH73CU3  s_01_e_17_shot_004477_004551   \n",
       "37  36FQTHX3Z4RVI269UIZFVCGVM9JB3N  s_01_e_24_shot_013398_013472   \n",
       "38  3JTPR5MTZTCZPKX7EE019CX5NZJK56  s_02_e_31_shot_026422_026496   \n",
       "39  3PEG1BH7AFR1E0EGFORECYXXXV5BKY  s_01_e_01_shot_018227_018301   \n",
       "40  371QPA24C3OZ4LMB70CH7D7KUW51TB  s_02_e_06_shot_028094_028168   \n",
       "41  3WKGUBL7S0MSD7BPL9TSJK46C3UL46  s_06_e_17_shot_016643_016717   \n",
       "42  3MA5N0ATTDBT23CRAFNAZCAI7WMWKY  s_02_e_14_shot_007267_007341   \n",
       "43  3DA79LNS5AVVEO0QU4Q0V6MHSGIT3U  s_03_e_15_shot_034402_034476   \n",
       "44  3BFF0DJK8YCZY5L5KJR13EUTKWISTM  s_01_e_10_shot_022286_022360   \n",
       "45  3A520CCNWO0T9QHEDOGFJS0MVGOEAM  s_01_e_20_shot_010446_010520   \n",
       "46  34R0BODSP2ZW3K5XISPYBHK032O5E8  s_03_e_07_shot_018249_018323   \n",
       "47  375VMB7D4KJ3N2MCTHX8U86K8CTDIX  s_02_e_18_shot_043404_043478   \n",
       "48  34XASH8KLRMY8IFTJ5MVMVUQ34FMPZ  s_06_e_17_shot_006776_006850   \n",
       "49  30Z7M1Q8UZKC0P7N0LUFRI40KDSA8L  s_03_e_25_shot_018139_018213   \n",
       "\n",
       "         worker_id  description_length  \n",
       "0   A1B22TUTP9XR1D                 NaN  \n",
       "1   A11XGDVL8AQ6VL                 NaN  \n",
       "2   A2DRV5CGGW5HTK                 NaN  \n",
       "3    AAI32CU3ZUGGV                 NaN  \n",
       "4   A39AXTTH0QVFA3                 NaN  \n",
       "5   A39AXTTH0QVFA3                 NaN  \n",
       "6    AAI32CU3ZUGGV                 NaN  \n",
       "7   A164LU3V7YITK7                 NaN  \n",
       "8   A37X1GHLB2HCX7                 NaN  \n",
       "9    A4UVNGSXE2ANA                 NaN  \n",
       "10  A308MILZVIA62M                 NaN  \n",
       "11  A164LU3V7YITK7                 NaN  \n",
       "12  A1BJ2D8XQMYG4I                 NaN  \n",
       "13  A1I1VA0OBAZ2HH                 NaN  \n",
       "14  A1I1VA0OBAZ2HH                 NaN  \n",
       "15   AMA4SXSYNC35I                 NaN  \n",
       "16  A1M5BJTQIXCM33                 NaN  \n",
       "17   AQ5RV9HW7U6ID                 NaN  \n",
       "18   AAI32CU3ZUGGV                 NaN  \n",
       "19  A1I1VA0OBAZ2HH                 NaN  \n",
       "20  A29RJVVL54THB5                 NaN  \n",
       "21  A1DINOR5IK1YC4                 NaN  \n",
       "22  A39AXTTH0QVFA3                 NaN  \n",
       "23  A3KP151PRRZFIF                 NaN  \n",
       "24  A132MSWBBVTOES                 NaN  \n",
       "25  A3KP151PRRZFIF                 NaN  \n",
       "26  A20DQZTIIISMS8                 NaN  \n",
       "27  A3J0ALXC5LRSSG                 NaN  \n",
       "28  A308MILZVIA62M                 NaN  \n",
       "29  A37X1GHLB2HCX7                 NaN  \n",
       "30  A147TNM8V7BU92                 NaN  \n",
       "31  A1M5BJTQIXCM33                 NaN  \n",
       "32   AAI32CU3ZUGGV                 NaN  \n",
       "33   AQ5RV9HW7U6ID                 NaN  \n",
       "34  A39AXTTH0QVFA3                 NaN  \n",
       "35   AQ5RV9HW7U6ID                 NaN  \n",
       "36  A33CY9EY50SSLI                 NaN  \n",
       "37  A3FOKP72T5I4FR                 NaN  \n",
       "38  A1BJ2D8XQMYG4I                 NaN  \n",
       "39  A1BJ2D8XQMYG4I                 NaN  \n",
       "40  A20DQZTIIISMS8                 NaN  \n",
       "41  A1ZQF173191T3P                 NaN  \n",
       "42   A2LH2CAU6CXVW                 NaN  \n",
       "43  A1M5BJTQIXCM33                 NaN  \n",
       "44   AU34T9OMHN4Z4                 NaN  \n",
       "45  A3FOKP72T5I4FR                 NaN  \n",
       "46  A26ERTJPV1A1IM                 NaN  \n",
       "47  A1M5BJTQIXCM33                 NaN  \n",
       "48  A308MILZVIA62M                 NaN  \n",
       "49  A39AXTTH0QVFA3                 NaN  "
      ]
     },
     "execution_count": 162,
     "metadata": {},
     "output_type": "execute_result"
    }
   ],
   "source": [
    "st3_df.sort_values('description_length').head(50)"
   ]
  },
  {
   "cell_type": "code",
   "execution_count": 163,
   "metadata": {
    "collapsed": true,
    "hidden": true,
    "run_control": {
     "frozen": false,
     "read_only": false
    }
   },
   "outputs": [],
   "source": [
    "st3_df['setting'] = st3_df['image_id'].apply(lambda x: stage_3b_beta_locs[x])\n",
    "st3_df['characters'] = st3_df['image_id'].apply(lambda x: [c['characterName'] for c in ds_by_frame[x]['characters']])"
   ]
  },
  {
   "cell_type": "code",
   "execution_count": 164,
   "metadata": {
    "collapsed": true,
    "hidden": true,
    "run_control": {
     "frozen": false,
     "read_only": false
    }
   },
   "outputs": [],
   "source": [
    "# st3_df['char_name'] = st3_df['image_id'].apply(lambda x:[char['characterName'] for char in ds_by_frame[x]['characters']])"
   ]
  },
  {
   "cell_type": "code",
   "execution_count": 165,
   "metadata": {
    "hidden": true,
    "run_control": {
     "frozen": false,
     "read_only": false
    },
    "scrolled": true
   },
   "outputs": [
    {
     "data": {
      "text/plain": [
       "(8504, 9)"
      ]
     },
     "execution_count": 165,
     "metadata": {},
     "output_type": "execute_result"
    }
   ],
   "source": [
    "st3_df.shape"
   ]
  },
  {
   "cell_type": "code",
   "execution_count": 166,
   "metadata": {
    "collapsed": true,
    "hidden": true,
    "run_control": {
     "frozen": false,
     "read_only": false
    }
   },
   "outputs": [],
   "source": [
    "st3_df.sample(100)[['image_id', 'gif_uri', 'action_description', 'setting', 'characters']].to_csv('stage3b_prod_2_100_sample.csv', index=False)"
   ]
  },
  {
   "cell_type": "code",
   "execution_count": 167,
   "metadata": {
    "collapsed": true,
    "hidden": true,
    "run_control": {
     "frozen": false,
     "read_only": false
    }
   },
   "outputs": [],
   "source": [
    "descript_df =  st3_df[['image_id', 'action_description']]\n",
    "descript_df.index = descript_df['image_id']\n",
    "pickle_this(descript_df['action_description'].to_dict(), 'stage3_prod1_2_descriptions.pkl')"
   ]
  },
  {
   "cell_type": "code",
   "execution_count": 168,
   "metadata": {
    "collapsed": true,
    "hidden": true,
    "run_control": {
     "frozen": false,
     "read_only": false
    }
   },
   "outputs": [],
   "source": [
    "# pickle_this(setting_lookup.to_dict(), 'stage_3_beta_gold_settings.pkl')"
   ]
  },
  {
   "cell_type": "markdown",
   "metadata": {
    "heading_collapsed": true
   },
   "source": [
    "# 3. region experiment"
   ]
  },
  {
   "cell_type": "code",
   "execution_count": 169,
   "metadata": {
    "collapsed": true,
    "hidden": true,
    "run_control": {
     "frozen": false,
     "read_only": false
    }
   },
   "outputs": [],
   "source": [
    "def lookup_region(hitid):\n",
    "    if hitid in nzaucaus_hit_ids:\n",
    "        return 'nzaucaus'\n",
    "    if hitid in us_hit_ids:\n",
    "        return 'us only'\n",
    "    if hitid in in_hit_ids:\n",
    "        return 'in only'"
   ]
  },
  {
   "cell_type": "code",
   "execution_count": 170,
   "metadata": {
    "collapsed": true,
    "hidden": true,
    "run_control": {
     "frozen": false,
     "read_only": false
    }
   },
   "outputs": [],
   "source": [
    "# st3_df['region'] = st3_df['hit_id'].apply(lookup_region)"
   ]
  },
  {
   "cell_type": "code",
   "execution_count": 171,
   "metadata": {
    "hidden": true,
    "run_control": {
     "frozen": false,
     "read_only": false
    }
   },
   "outputs": [
    {
     "data": {
      "text/html": [
       "<div>\n",
       "<style>\n",
       "    .dataframe thead tr:only-child th {\n",
       "        text-align: right;\n",
       "    }\n",
       "\n",
       "    .dataframe thead th {\n",
       "        text-align: left;\n",
       "    }\n",
       "\n",
       "    .dataframe tbody tr th {\n",
       "        vertical-align: top;\n",
       "    }\n",
       "</style>\n",
       "<table border=\"1\" class=\"dataframe\">\n",
       "  <thead>\n",
       "    <tr style=\"text-align: right;\">\n",
       "      <th></th>\n",
       "      <th>action_description</th>\n",
       "      <th>asgmt_id</th>\n",
       "      <th>gif_uri</th>\n",
       "      <th>hit_id</th>\n",
       "      <th>image_id</th>\n",
       "      <th>worker_id</th>\n",
       "      <th>description_length</th>\n",
       "      <th>setting</th>\n",
       "      <th>characters</th>\n",
       "    </tr>\n",
       "  </thead>\n",
       "  <tbody>\n",
       "    <tr>\n",
       "      <th>0</th>\n",
       "      <td>Barney is scared by a large orange claw coming...</td>\n",
       "      <td>3BV8HQ2ZZX1SJVMTX82JWO3U1WP6A9</td>\n",
       "      <td>https://s3-us-west-2.amazonaws.com/ai2-vision-...</td>\n",
       "      <td>3EAWOID6MUXEAO5IGC8WUQCVMPG0VO</td>\n",
       "      <td>s_05_e_09_shot_032756_032830</td>\n",
       "      <td>A1B22TUTP9XR1D</td>\n",
       "      <td>NaN</td>\n",
       "      <td>doorway</td>\n",
       "      <td>[barney]</td>\n",
       "    </tr>\n",
       "  </tbody>\n",
       "</table>\n",
       "</div>"
      ],
      "text/plain": [
       "                                  action_description  \\\n",
       "0  Barney is scared by a large orange claw coming...   \n",
       "\n",
       "                         asgmt_id  \\\n",
       "0  3BV8HQ2ZZX1SJVMTX82JWO3U1WP6A9   \n",
       "\n",
       "                                             gif_uri  \\\n",
       "0  https://s3-us-west-2.amazonaws.com/ai2-vision-...   \n",
       "\n",
       "                           hit_id                      image_id  \\\n",
       "0  3EAWOID6MUXEAO5IGC8WUQCVMPG0VO  s_05_e_09_shot_032756_032830   \n",
       "\n",
       "        worker_id  description_length  setting characters  \n",
       "0  A1B22TUTP9XR1D                 NaN  doorway   [barney]  "
      ]
     },
     "execution_count": 171,
     "metadata": {},
     "output_type": "execute_result"
    }
   ],
   "source": [
    "st3_df.head(1)"
   ]
  },
  {
   "cell_type": "code",
   "execution_count": 172,
   "metadata": {
    "collapsed": true,
    "hidden": true,
    "run_control": {
     "frozen": false,
     "read_only": false
    }
   },
   "outputs": [],
   "source": [
    "grouped_by_image = st3_df.groupby('image_id')"
   ]
  },
  {
   "cell_type": "code",
   "execution_count": 173,
   "metadata": {
    "collapsed": true,
    "hidden": true,
    "run_control": {
     "frozen": false,
     "read_only": false
    }
   },
   "outputs": [],
   "source": [
    "st3_df[['image_id', 'gif_uri', 'action_description']].to_csv('stage_3b_beta_1.csv')"
   ]
  },
  {
   "cell_type": "code",
   "execution_count": 174,
   "metadata": {
    "hidden": true,
    "run_control": {
     "frozen": false,
     "read_only": false
    }
   },
   "outputs": [
    {
     "ename": "KeyError",
     "evalue": "'Column not found: setting_description'",
     "output_type": "error",
     "traceback": [
      "\u001b[0;31m---------------------------------------------------------------------------\u001b[0m",
      "\u001b[0;31mKeyError\u001b[0m                                  Traceback (most recent call last)",
      "\u001b[0;32m<ipython-input-174-07b73e8cd5d5>\u001b[0m in \u001b[0;36m<module>\u001b[0;34m()\u001b[0m\n\u001b[0;32m----> 1\u001b[0;31m \u001b[0msettings_per_turker\u001b[0m \u001b[0;34m=\u001b[0m \u001b[0mgrouped_by_image\u001b[0m\u001b[0;34m[\u001b[0m\u001b[0;34m'setting_description'\u001b[0m\u001b[0;34m]\u001b[0m\u001b[0;34m.\u001b[0m\u001b[0mapply\u001b[0m\u001b[0;34m(\u001b[0m\u001b[0;32mlambda\u001b[0m \u001b[0mx\u001b[0m\u001b[0;34m:\u001b[0m \u001b[0mpd\u001b[0m\u001b[0;34m.\u001b[0m\u001b[0mSeries\u001b[0m\u001b[0;34m(\u001b[0m\u001b[0mx\u001b[0m\u001b[0;34m.\u001b[0m\u001b[0mvalues\u001b[0m\u001b[0;34m)\u001b[0m\u001b[0;34m)\u001b[0m\u001b[0;34m.\u001b[0m\u001b[0munstack\u001b[0m\u001b[0;34m(\u001b[0m\u001b[0;34m)\u001b[0m\u001b[0;34m\u001b[0m\u001b[0m\n\u001b[0m\u001b[1;32m      2\u001b[0m \u001b[0msettings_per_turker\u001b[0m \u001b[0;34m=\u001b[0m \u001b[0msettings_per_turker\u001b[0m\u001b[0;34m.\u001b[0m\u001b[0mreset_index\u001b[0m\u001b[0;34m(\u001b[0m\u001b[0;34m)\u001b[0m\u001b[0;34m\u001b[0m\u001b[0m\n\u001b[1;32m      3\u001b[0m \u001b[0msettings_per_turker\u001b[0m\u001b[0;34m.\u001b[0m\u001b[0mcolumns\u001b[0m \u001b[0;34m=\u001b[0m \u001b[0;34m[\u001b[0m\u001b[0;34m'image_id'\u001b[0m\u001b[0;34m]\u001b[0m \u001b[0;34m+\u001b[0m \u001b[0;34m[\u001b[0m\u001b[0;34m'turker{}  setting: '\u001b[0m\u001b[0;34m.\u001b[0m\u001b[0mformat\u001b[0m\u001b[0;34m(\u001b[0m\u001b[0mi\u001b[0m\u001b[0;34m)\u001b[0m \u001b[0;32mfor\u001b[0m \u001b[0mi\u001b[0m \u001b[0;32min\u001b[0m \u001b[0mrange\u001b[0m\u001b[0;34m(\u001b[0m\u001b[0;36m1\u001b[0m\u001b[0;34m,\u001b[0m \u001b[0;36m4\u001b[0m\u001b[0;34m)\u001b[0m\u001b[0;34m]\u001b[0m\u001b[0;34m\u001b[0m\u001b[0m\n",
      "\u001b[0;32m/usr/local/lib/python3.6/site-packages/pandas/core/base.py\u001b[0m in \u001b[0;36m__getitem__\u001b[0;34m(self, key)\u001b[0m\n\u001b[1;32m    352\u001b[0m         \u001b[0;32melse\u001b[0m\u001b[0;34m:\u001b[0m\u001b[0;34m\u001b[0m\u001b[0m\n\u001b[1;32m    353\u001b[0m             \u001b[0;32mif\u001b[0m \u001b[0mkey\u001b[0m \u001b[0;32mnot\u001b[0m \u001b[0;32min\u001b[0m \u001b[0mself\u001b[0m\u001b[0;34m.\u001b[0m\u001b[0mobj\u001b[0m\u001b[0;34m:\u001b[0m\u001b[0;34m\u001b[0m\u001b[0m\n\u001b[0;32m--> 354\u001b[0;31m                 \u001b[0;32mraise\u001b[0m \u001b[0mKeyError\u001b[0m\u001b[0;34m(\u001b[0m\u001b[0;34m\"Column not found: %s\"\u001b[0m \u001b[0;34m%\u001b[0m \u001b[0mkey\u001b[0m\u001b[0;34m)\u001b[0m\u001b[0;34m\u001b[0m\u001b[0m\n\u001b[0m\u001b[1;32m    355\u001b[0m             \u001b[0;32mreturn\u001b[0m \u001b[0mself\u001b[0m\u001b[0;34m.\u001b[0m\u001b[0m_gotitem\u001b[0m\u001b[0;34m(\u001b[0m\u001b[0mkey\u001b[0m\u001b[0;34m,\u001b[0m \u001b[0mndim\u001b[0m\u001b[0;34m=\u001b[0m\u001b[0;36m1\u001b[0m\u001b[0;34m)\u001b[0m\u001b[0;34m\u001b[0m\u001b[0m\n\u001b[1;32m    356\u001b[0m \u001b[0;34m\u001b[0m\u001b[0m\n",
      "\u001b[0;31mKeyError\u001b[0m: 'Column not found: setting_description'"
     ]
    }
   ],
   "source": [
    "settings_per_turker = grouped_by_image['setting_description'].apply(lambda x: pd.Series(x.values)).unstack()\n",
    "settings_per_turker = settings_per_turker.reset_index()\n",
    "settings_per_turker.columns = ['image_id'] + ['turker{}  setting: '.format(i) for i in range(1, 4)]"
   ]
  },
  {
   "cell_type": "code",
   "execution_count": null,
   "metadata": {
    "collapsed": true,
    "hidden": true,
    "run_control": {
     "frozen": false,
     "read_only": false
    },
    "scrolled": true
   },
   "outputs": [],
   "source": [
    "# settings_per_turker"
   ]
  },
  {
   "cell_type": "code",
   "execution_count": null,
   "metadata": {
    "collapsed": true,
    "hidden": true,
    "run_control": {
     "frozen": false,
     "read_only": false
    }
   },
   "outputs": [],
   "source": [
    "# settings_per_region = grouped_by_image['setting_description'].apply(lambda x: pd.Series(x.values)).unstack()\n",
    "# actions_per_region = grouped_by_image['character_description'].apply(lambda x: pd.Series(x.values)).unstack()\n",
    "# region_s = grouped_by_image['region'].apply(lambda x: pd.Series(x.values)).unstack()\n",
    "\n",
    "# region_cols = region_s.iloc[0][[0, 1, 2]].values.tolist()\n",
    "\n",
    "# settings_per_region.columns = ['setting: ' + reg for reg in region_cols]\n",
    "# actions_per_region.columns = ['actions: ' + reg for reg in region_cols]\n",
    "# settings_per_region = settings_per_region.reset_index()\n",
    "# actions_per_region = actions_per_region.reset_index()"
   ]
  },
  {
   "cell_type": "code",
   "execution_count": null,
   "metadata": {
    "collapsed": true,
    "hidden": true,
    "run_control": {
     "frozen": false,
     "read_only": false
    }
   },
   "outputs": [],
   "source": [
    "gif_uris = grouped_by_image['gif_uri'].agg(np.max)"
   ]
  },
  {
   "cell_type": "code",
   "execution_count": null,
   "metadata": {
    "collapsed": true,
    "hidden": true,
    "run_control": {
     "frozen": false,
     "read_only": false
    },
    "scrolled": true
   },
   "outputs": [],
   "source": [
    "# settings_per_turker"
   ]
  },
  {
   "cell_type": "code",
   "execution_count": null,
   "metadata": {
    "collapsed": true,
    "hidden": true,
    "run_control": {
     "frozen": false,
     "read_only": false
    }
   },
   "outputs": [],
   "source": [
    "beta_reponses_df = pd.merge(pd.DataFrame(gif_uris).reset_index(), settings_per_turker)"
   ]
  },
  {
   "cell_type": "code",
   "execution_count": null,
   "metadata": {
    "hidden": true,
    "run_control": {
     "frozen": false,
     "read_only": false
    },
    "scrolled": true
   },
   "outputs": [],
   "source": [
    "beta_reponses_df"
   ]
  },
  {
   "cell_type": "code",
   "execution_count": null,
   "metadata": {
    "collapsed": true,
    "hidden": true,
    "run_control": {
     "frozen": false,
     "read_only": false
    }
   },
   "outputs": [],
   "source": [
    "# per_region_df['char_name'] = per_region_df['image_id'].apply(lambda x: ds_by_frame[x]['characters'][0]['characterName'])"
   ]
  },
  {
   "cell_type": "code",
   "execution_count": null,
   "metadata": {
    "collapsed": true,
    "hidden": true,
    "run_control": {
     "frozen": false,
     "marked": true,
     "read_only": false
    }
   },
   "outputs": [],
   "source": [
    "# pickle_this(set(per_region_df['image_id'].tolist()), 'random_sample_ids.pkl')"
   ]
  },
  {
   "cell_type": "code",
   "execution_count": null,
   "metadata": {
    "collapsed": true,
    "hidden": true,
    "run_control": {
     "frozen": false,
     "read_only": false
    }
   },
   "outputs": [],
   "source": [
    "beta_reponses_df.to_csv('stage_3b_beta_1.csv')"
   ]
  },
  {
   "cell_type": "code",
   "execution_count": null,
   "metadata": {
    "collapsed": true,
    "hidden": true,
    "run_control": {
     "frozen": false,
     "read_only": false
    }
   },
   "outputs": [],
   "source": [
    "# annotations_by_frame = defaultdict(list)\n",
    "# for anno in sorted(assignment_results, key=lambda x: x['stillID']):\n",
    "#     animation_id = anno['stillID'].rsplit('_', 1)[0]\n",
    "#     annotations_by_frame[animation_id].append(anno)"
   ]
  },
  {
   "cell_type": "code",
   "execution_count": null,
   "metadata": {
    "collapsed": true,
    "hidden": true,
    "run_control": {
     "frozen": false,
     "read_only": false
    }
   },
   "outputs": [],
   "source": []
  },
  {
   "cell_type": "code",
   "execution_count": null,
   "metadata": {
    "collapsed": true,
    "hidden": true,
    "run_control": {
     "frozen": false,
     "read_only": false
    }
   },
   "outputs": [],
   "source": []
  },
  {
   "cell_type": "code",
   "execution_count": null,
   "metadata": {
    "collapsed": true,
    "hidden": true,
    "run_control": {
     "frozen": false,
     "read_only": false
    }
   },
   "outputs": [],
   "source": []
  },
  {
   "cell_type": "code",
   "execution_count": null,
   "metadata": {
    "collapsed": true,
    "hidden": true,
    "run_control": {
     "frozen": false,
     "read_only": false
    }
   },
   "outputs": [],
   "source": []
  },
  {
   "cell_type": "markdown",
   "metadata": {
    "collapsed": true,
    "run_control": {
     "frozen": false,
     "read_only": false
    }
   },
   "source": [
    "# 4. parsing experiments"
   ]
  },
  {
   "cell_type": "markdown",
   "metadata": {},
   "source": [
    "## combined"
   ]
  },
  {
   "cell_type": "code",
   "execution_count": 24,
   "metadata": {
    "collapsed": true,
    "run_control": {
     "frozen": false,
     "read_only": false
    }
   },
   "outputs": [],
   "source": [
    "from phrase_cues.parsing import parse_description\n",
    "import nltk"
   ]
  },
  {
   "cell_type": "code",
   "execution_count": 25,
   "metadata": {
    "run_control": {
     "frozen": false,
     "read_only": false
    }
   },
   "outputs": [
    {
     "data": {
      "text/plain": [
       "(8504, 6)"
      ]
     },
     "execution_count": 25,
     "metadata": {},
     "output_type": "execute_result"
    }
   ],
   "source": [
    "st3_df.shape"
   ]
  },
  {
   "cell_type": "code",
   "execution_count": 26,
   "metadata": {
    "run_control": {
     "frozen": false,
     "read_only": false
    }
   },
   "outputs": [],
   "source": [
    "# desc_parses = st3_df['action_description'].apply(parse_description)"
   ]
  },
  {
   "cell_type": "code",
   "execution_count": 27,
   "metadata": {
    "collapsed": true,
    "run_control": {
     "frozen": false,
     "read_only": false
    }
   },
   "outputs": [],
   "source": [
    "# dn = 0\n",
    "dn = 20\n",
    "test_doc = st3_df.iloc[dn]['action_description']"
   ]
  },
  {
   "cell_type": "code",
   "execution_count": 28,
   "metadata": {},
   "outputs": [
    {
     "data": {
      "text/plain": [
       "action_description    Wilma is in a room.  She is talking on the pho...\n",
       "asgmt_id                                 3AUQQEL7U6THX83C6EDYJA7G93YV0S\n",
       "gif_uri               https://s3-us-west-2.amazonaws.com/ai2-vision-...\n",
       "hit_id                                   37S0QRNUFCGYH1E83NA1VRY5UPR88E\n",
       "image_id                                   s_04_e_05_shot_032472_032546\n",
       "worker_id                                                A29RJVVL54THB5\n",
       "Name: 20, dtype: object"
      ]
     },
     "execution_count": 28,
     "metadata": {},
     "output_type": "execute_result"
    }
   ],
   "source": [
    "st3_df.iloc[dn]"
   ]
  },
  {
   "cell_type": "code",
   "execution_count": 29,
   "metadata": {
    "collapsed": true,
    "run_control": {
     "frozen": false,
     "read_only": false
    }
   },
   "outputs": [],
   "source": [
    "parse_components = parse_description(test_doc)"
   ]
  },
  {
   "cell_type": "code",
   "execution_count": 30,
   "metadata": {
    "run_control": {
     "frozen": false,
     "read_only": false
    }
   },
   "outputs": [
    {
     "data": {
      "image/png": "[encoded data removed]",
      "text/plain": [
       "Tree('ROOT', [Tree('S', [Tree('NP', [Tree('PRP', ['She'])]), Tree('VP', [Tree('VP', [Tree('VBZ', ['is']), Tree('VP', [Tree('VBG', ['talking']), Tree('PP', [Tree('IN', ['on']), Tree('NP', [Tree('DT', ['the']), Tree('NN', ['phone'])])])])]), Tree('CC', ['and']), Tree('ADVP', [Tree('RB', ['then'])]), Tree('VP', [Tree('VBZ', ['hangs']), Tree('PRT', [Tree('RP', ['up'])])])]), Tree('.', ['.'])])])"
      ]
     },
     "execution_count": 30,
     "metadata": {},
     "output_type": "execute_result"
    }
   ],
   "source": [
    "sent_1 = parse_components['constituent_parse'][1]\n",
    "sent_1"
   ]
  },
  {
   "cell_type": "code",
   "execution_count": 34,
   "metadata": {},
   "outputs": [
    {
     "name": "stdout",
     "output_type": "stream",
     "text": [
      "She\n",
      "is\n",
      "talking\n",
      "on\n",
      "the\n",
      "phone\n",
      "and\n",
      "then\n",
      "hangs\n",
      "up\n",
      ".\n"
     ]
    }
   ],
   "source": [
    "traverseTree(sent_1)"
   ]
  },
  {
   "cell_type": "code",
   "execution_count": 69,
   "metadata": {},
   "outputs": [],
   "source": [
    "st5 = list(sent_1.subtrees())[5]"
   ]
  },
  {
   "cell_type": "code",
   "execution_count": 77,
   "metadata": {},
   "outputs": [
    {
     "data": {
      "image/png": "[encoded data removed]",
      "text/plain": [
       "Tree('VP', [Tree('VBZ', ['is']), Tree('VP', [Tree('VBG', ['talking']), Tree('PP', [Tree('IN', ['on']), Tree('NP', [Tree('DT', ['the']), Tree('NN', ['phone'])])])])])"
      ]
     },
     "execution_count": 77,
     "metadata": {},
     "output_type": "execute_result"
    }
   ],
   "source": [
    "st5."
   ]
  },
  {
   "cell_type": "code",
   "execution_count": 64,
   "metadata": {},
   "outputs": [],
   "source": [
    "s = '(ROOT (S (NP (NNP Europe)) (VP (VBZ is) (PP (IN in) (NP (DT the) (JJ same) (NNS trends)))) (. .)))'\n",
    "tree = nltk.tree.Tree.fromstring(s)\n",
    "def traverseTree(tree):\n",
    "    for subtree in tree:\n",
    "        if type(subtree) == nltk.tree.Tree:\n",
    "            print(subtree.label())\n",
    "            print(subtree)\n",
    "            traverseTree(subtree)\n",
    "        else:\n",
    "            pass\n"
   ]
  },
  {
   "cell_type": "code",
   "execution_count": 65,
   "metadata": {},
   "outputs": [
    {
     "name": "stdout",
     "output_type": "stream",
     "text": [
      "S\n",
      "NP\n",
      "NNP\n",
      "VP\n",
      "VBZ\n",
      "PP\n",
      "IN\n",
      "NP\n",
      "DT\n",
      "JJ\n",
      "NNS\n",
      ".\n"
     ]
    }
   ],
   "source": [
    "traverseTree(tree)"
   ]
  },
  {
   "cell_type": "code",
   "execution_count": 53,
   "metadata": {},
   "outputs": [
    {
     "data": {
      "image/png": "[encoded data removed]",
      "text/plain": [
       "Tree('ROOT', [Tree('S', [Tree('NP', [Tree('NNP', ['Europe'])]), Tree('VP', [Tree('VBZ', ['is']), Tree('PP', [Tree('IN', ['in']), Tree('NP', [Tree('DT', ['the']), Tree('JJ', ['same']), Tree('NNS', ['trends'])])])]), Tree('.', ['.'])])])"
      ]
     },
     "execution_count": 53,
     "metadata": {},
     "output_type": "execute_result"
    }
   ],
   "source": [
    "tree"
   ]
  },
  {
   "cell_type": "code",
   "execution_count": null,
   "metadata": {
    "collapsed": true,
    "run_control": {
     "frozen": false,
     "read_only": false
    }
   },
   "outputs": [],
   "source": [
    "nps = parse_components['noun_phrase_chunks'][0]"
   ]
  },
  {
   "cell_type": "markdown",
   "metadata": {},
   "source": [
    "## hide"
   ]
  },
  {
   "cell_type": "code",
   "execution_count": null,
   "metadata": {
    "collapsed": true
   },
   "outputs": [],
   "source": [
    "tree."
   ]
  },
  {
   "cell_type": "code",
   "execution_count": 283,
   "metadata": {},
   "outputs": [],
   "source": [
    "st5 = list(parented_tree.subtrees())[2]"
   ]
  },
  {
   "cell_type": "code",
   "execution_count": 284,
   "metadata": {},
   "outputs": [
    {
     "data": {
      "text/plain": [
       "2"
      ]
     },
     "execution_count": 284,
     "metadata": {},
     "output_type": "execute_result"
    }
   ],
   "source": [
    "len(list(st5.subtrees()))"
   ]
  },
  {
   "cell_type": "code",
   "execution_count": 147,
   "metadata": {},
   "outputs": [
    {
     "data": {
      "text/plain": [
       "[(), (0,), (0, 0), (1,), (1, 0), (2,), (2, 0)]"
      ]
     },
     "execution_count": 147,
     "metadata": {},
     "output_type": "execute_result"
    }
   ],
   "source": [
    "st5.treeposition()"
   ]
  },
  {
   "cell_type": "code",
   "execution_count": 146,
   "metadata": {},
   "outputs": [
    {
     "data": {
      "image/png": "[encoded data removed]",
      "text/plain": [
       "ParentedTree('NP', [ParentedTree('DT', ['the']), ParentedTree('JJ', ['same']), ParentedTree('NNS', ['trends'])])"
      ]
     },
     "execution_count": 146,
     "metadata": {},
     "output_type": "execute_result"
    }
   ],
   "source": [
    "st5"
   ]
  },
  {
   "cell_type": "code",
   "execution_count": 145,
   "metadata": {},
   "outputs": [
    {
     "data": {
      "image/png": "[encoded data removed]",
      "text/plain": [
       "ParentedTree('S', [ParentedTree('NP', [ParentedTree('NNP', ['Europe'])]), ParentedTree('VP', [ParentedTree('VBZ', ['is']), ParentedTree('PP', [ParentedTree('IN', ['in']), ParentedTree('NP', [ParentedTree('DT', ['the']), ParentedTree('JJ', ['same']), ParentedTree('NNS', ['trends'])])])]), ParentedTree('.', ['.'])])"
      ]
     },
     "execution_count": 145,
     "metadata": {},
     "output_type": "execute_result"
    }
   ],
   "source": [
    "parented_tree[0]"
   ]
  },
  {
   "cell_type": "code",
   "execution_count": null,
   "metadata": {
    "collapsed": true
   },
   "outputs": [],
   "source": [
    "parented_tree.parent_index()"
   ]
  },
  {
   "cell_type": "code",
   "execution_count": 133,
   "metadata": {},
   "outputs": [
    {
     "data": {
      "image/png": "[encoded data removed]",
      "text/plain": [
       "ParentedTree('VBZ', ['is'])"
      ]
     },
     "execution_count": 133,
     "metadata": {},
     "output_type": "execute_result"
    }
   ],
   "source": [
    "list(st5.subtrees())[0]"
   ]
  },
  {
   "cell_type": "code",
   "execution_count": 543,
   "metadata": {
    "run_control": {
     "frozen": false,
     "read_only": false
    }
   },
   "outputs": [],
   "source": [
    "def build_simple_parse_tree(nltk_sent):\n",
    "    \n",
    "    return\n",
    "\n",
    "def traverse_tree(tree):\n",
    "    for subtree in tree.subtrees():\n",
    "        if isinstance(subtree, Tree):\n",
    "            traverseTree(subtree)\n",
    "        else:\n",
    "            print(subtree.leaves())\n",
    "            \n",
    "def get_tree_position(node):\n",
    "    if node:\n",
    "        return str(node.treeposition())\n",
    "    else:\n",
    "        return\n",
    "\n",
    "\n",
    "class Tree(object):\n",
    "    def __init__(self, nltk_parented_tree):\n",
    "        self.subtrees = []\n",
    "        self._node_lookup = {}\n",
    "        self.leaves = []\n",
    "        for node in list(nltk_parented_tree.subtrees()):\n",
    "            nkey = str(node.treeposition())\n",
    "            if len(node.leaves()) > 1 or len(list(node.subtrees())) > 1:\n",
    "                self.subtrees.append(Node(node))\n",
    "            else:\n",
    "                node.set_label(' '.join([node.label(), node.leaves()[0]]))\n",
    "                leaf_node = Node(node)\n",
    "                self.subtrees.append(leaf_node)\n",
    "                self.leaves.append(leaf_node)\n",
    "            self._node_lookup[nkey] = self.subtrees[-1]\n",
    "            \n",
    "        self.root_node = [node for node in self.subtrees if node.value == 'ROOT'][0]\n",
    "        self.word_pos_to_node = {idx: node for idx, node in enumerate(self.leaves)}\n",
    "        \n",
    "        for node in self.subtrees:\n",
    "            node.left_sibling = self._node_lookup.get(node.left_sibling)\n",
    "            node.right_sibling = self._node_lookup.get(node.right_sibling)\n",
    "            node.parent = self._node_lookup.get(node.parent)\n",
    "\n",
    "\n",
    "class Node(object):\n",
    "    def __init__(self, nltk_node):\n",
    "        self.value = nltk_node.label()  # (tag,word/phrase)\n",
    "        self.left_sibling = get_tree_position(nltk_node)  # Instance of class Node\n",
    "        self.right_sibling = get_tree_position(nltk_node)  # Instance of class Node\n",
    "        self.parent = get_tree_position(nltk_node.parent()) # Instance of class Node"
   ]
  },
  {
   "cell_type": "code",
   "execution_count": 544,
   "metadata": {},
   "outputs": [],
   "source": [
    "parented_tree = nltk.tree.ParentedTree.convert(sent_1)"
   ]
  },
  {
   "cell_type": "code",
   "execution_count": 545,
   "metadata": {},
   "outputs": [],
   "source": [
    "test_tree = Tree(parented_tree)"
   ]
  },
  {
   "cell_type": "code",
   "execution_count": 548,
   "metadata": {
    "collapsed": true
   },
   "outputs": [],
   "source": [
    "import dill\n",
    "\n",
    "\n",
    "with open('tree_format_example_dill.pkl', 'wb') as f:\n",
    "    dill.dump(test_tree, f)"
   ]
  },
  {
   "cell_type": "code",
   "execution_count": 518,
   "metadata": {},
   "outputs": [],
   "source": [
    "tt = [tp.treeposition() for tp in list(parented_tree.subtrees())][5]"
   ]
  },
  {
   "cell_type": "code",
   "execution_count": 519,
   "metadata": {},
   "outputs": [
    {
     "data": {
      "text/plain": [
       "'(0, 1, 0)'"
      ]
     },
     "execution_count": 519,
     "metadata": {},
     "output_type": "execute_result"
    }
   ],
   "source": [
    "str(tt)"
   ]
  },
  {
   "cell_type": "code",
   "execution_count": null,
   "metadata": {
    "collapsed": true
   },
   "outputs": [],
   "source": []
  },
  {
   "cell_type": "code",
   "execution_count": null,
   "metadata": {
    "collapsed": true
   },
   "outputs": [],
   "source": []
  },
  {
   "cell_type": "code",
   "execution_count": null,
   "metadata": {
    "collapsed": true
   },
   "outputs": [],
   "source": []
  },
  {
   "cell_type": "code",
   "execution_count": null,
   "metadata": {
    "collapsed": true
   },
   "outputs": [],
   "source": []
  },
  {
   "cell_type": "code",
   "execution_count": 521,
   "metadata": {},
   "outputs": [
    {
     "data": {
      "text/plain": [
       "2"
      ]
     },
     "execution_count": 521,
     "metadata": {},
     "output_type": "execute_result"
    }
   ],
   "source": [
    "tsn.height()"
   ]
  },
  {
   "cell_type": "code",
   "execution_count": 522,
   "metadata": {},
   "outputs": [
    {
     "data": {
      "text/plain": [
       "['ROOT',\n",
       " 'S',\n",
       " 'NP',\n",
       " 'PRP She',\n",
       " 'VP',\n",
       " 'VP',\n",
       " 'VBZ is',\n",
       " 'VP',\n",
       " 'VBG talking',\n",
       " 'PP',\n",
       " 'IN on',\n",
       " 'NP',\n",
       " 'DT the',\n",
       " 'NN phone',\n",
       " 'CC and',\n",
       " 'ADVP',\n",
       " 'RB then',\n",
       " 'VP',\n",
       " 'VBZ hangs',\n",
       " 'PRT',\n",
       " 'RP up',\n",
       " '. .']"
      ]
     },
     "execution_count": 522,
     "metadata": {},
     "output_type": "execute_result"
    }
   ],
   "source": [
    "[t.value for t in test_tree.subtrees]"
   ]
  },
  {
   "cell_type": "code",
   "execution_count": 523,
   "metadata": {},
   "outputs": [],
   "source": [
    "rn = parented_tree.root()"
   ]
  },
  {
   "cell_type": "code",
   "execution_count": 524,
   "metadata": {},
   "outputs": [
    {
     "data": {
      "image/png": "[encoded data removed]",
      "text/plain": [
       "ParentedTree('ROOT', [ParentedTree('S', [ParentedTree('NP', [ParentedTree('PRP She', ['She'])]), ParentedTree('VP', [ParentedTree('VP', [ParentedTree('VBZ is', ['is']), ParentedTree('VP', [ParentedTree('VBG talking', ['talking']), ParentedTree('PP', [ParentedTree('IN on', ['on']), ParentedTree('NP', [ParentedTree('DT the', ['the']), ParentedTree('NN phone', ['phone'])])])])]), ParentedTree('CC and', ['and']), ParentedTree('ADVP', [ParentedTree('RB then', ['then'])]), ParentedTree('VP', [ParentedTree('VBZ hangs', ['hangs']), ParentedTree('PRT', [ParentedTree('RP up', ['up'])])])]), ParentedTree('. .', ['.'])])])"
      ]
     },
     "execution_count": 524,
     "metadata": {},
     "output_type": "execute_result"
    }
   ],
   "source": [
    "list(rn.subtrees())[0]"
   ]
  },
  {
   "cell_type": "code",
   "execution_count": 525,
   "metadata": {
    "run_control": {
     "marked": true
    }
   },
   "outputs": [
    {
     "data": {
      "text/plain": [
       "<__main__.Node at 0x15af0e390>"
      ]
     },
     "execution_count": 525,
     "metadata": {},
     "output_type": "execute_result"
    }
   ],
   "source": [
    "Node(st5)"
   ]
  },
  {
   "cell_type": "code",
   "execution_count": 526,
   "metadata": {},
   "outputs": [
    {
     "data": {
      "text/plain": [
       "[ROOT -> S,\n",
       " S -> NP VP .,\n",
       " NP -> PRP,\n",
       " PRP -> 'She',\n",
       " VP -> VP CC ADVP VP,\n",
       " VP -> VBZ VP,\n",
       " VBZ -> 'is',\n",
       " VP -> VBG PP,\n",
       " VBG -> 'talking',\n",
       " PP -> IN NP,\n",
       " IN -> 'on',\n",
       " NP -> DT NN,\n",
       " DT -> 'the',\n",
       " NN -> 'phone',\n",
       " CC -> 'and',\n",
       " ADVP -> RB,\n",
       " RB -> 'then',\n",
       " VP -> VBZ PRT,\n",
       " VBZ -> 'hangs',\n",
       " PRT -> RP,\n",
       " RP -> 'up',\n",
       " . -> '.']"
      ]
     },
     "execution_count": 526,
     "metadata": {},
     "output_type": "execute_result"
    }
   ],
   "source": [
    "sent_1.productions()"
   ]
  },
  {
   "cell_type": "code",
   "execution_count": null,
   "metadata": {
    "collapsed": true
   },
   "outputs": [],
   "source": []
  },
  {
   "cell_type": "code",
   "execution_count": null,
   "metadata": {},
   "outputs": [],
   "source": [
    "traverse_tree(sent_1)a"
   ]
  },
  {
   "cell_type": "code",
   "execution_count": null,
   "metadata": {
    "collapsed": true
   },
   "outputs": [],
   "source": [
    "build_simple_parse_tree(sent_1)"
   ]
  },
  {
   "cell_type": "code",
   "execution_count": null,
   "metadata": {
    "run_control": {
     "marked": true
    }
   },
   "outputs": [],
   "source": [
    "list(sent_1.subtrees())"
   ]
  },
  {
   "cell_type": "code",
   "execution_count": null,
   "metadata": {
    "collapsed": true
   },
   "outputs": [],
   "source": []
  },
  {
   "cell_type": "code",
   "execution_count": null,
   "metadata": {
    "collapsed": true
   },
   "outputs": [],
   "source": []
  },
  {
   "cell_type": "code",
   "execution_count": null,
   "metadata": {
    "collapsed": true
   },
   "outputs": [],
   "source": []
  },
  {
   "cell_type": "code",
   "execution_count": null,
   "metadata": {
    "collapsed": true
   },
   "outputs": [],
   "source": []
  },
  {
   "cell_type": "code",
   "execution_count": null,
   "metadata": {
    "collapsed": true,
    "run_control": {
     "frozen": false,
     "read_only": false
    }
   },
   "outputs": [],
   "source": [
    "tagged_parse_sents"
   ]
  },
  {
   "cell_type": "code",
   "execution_count": null,
   "metadata": {
    "run_control": {
     "frozen": false,
     "read_only": false
    }
   },
   "outputs": [],
   "source": [
    "cps1"
   ]
  },
  {
   "cell_type": "code",
   "execution_count": null,
   "metadata": {
    "run_control": {
     "frozen": false,
     "read_only": false
    }
   },
   "outputs": [],
   "source": [
    "parse_components['constituent_parse']"
   ]
  },
  {
   "cell_type": "code",
   "execution_count": null,
   "metadata": {
    "run_control": {
     "frozen": false,
     "read_only": false
    }
   },
   "outputs": [],
   "source": [
    "for t in cps1:\n",
    "    if isinstance(t, Tree):\n",
    "        print('h')\n",
    "    else:\n",
    "        print('t')\n",
    "        "
   ]
  },
  {
   "cell_type": "code",
   "execution_count": null,
   "metadata": {
    "collapsed": true,
    "run_control": {
     "frozen": false,
     "read_only": false
    }
   },
   "outputs": [],
   "source": [
    "tree = Tree('scores',\n",
    "            [Tree('extent', ['highest']),\n",
    "             Tree('filler',\n",
    "                  [Tree('filler', ['scores']),\n",
    "                   Tree('filler', ['for'])]),\n",
    "             Tree('team', ['India'])])"
   ]
  },
  {
   "cell_type": "code",
   "execution_count": null,
   "metadata": {
    "collapsed": true,
    "run_control": {
     "frozen": false,
     "read_only": false
    }
   },
   "outputs": [],
   "source": [
    "from nltk import Tree\n",
    "\n",
    "def tree_to_dict(tree):\n",
    "    return {t: [tree2dict(t)  if isinstance(t, Tree) else t for t in tree]}"
   ]
  },
  {
   "cell_type": "code",
   "execution_count": null,
   "metadata": {
    "collapsed": true,
    "run_control": {
     "frozen": false,
     "read_only": false
    }
   },
   "outputs": [],
   "source": [
    "# pickle_this(desc_parses.to_dict(), 'stage3_prod1_2_descriptions_parses.pkl')"
   ]
  },
  {
   "cell_type": "code",
   "execution_count": null,
   "metadata": {
    "run_control": {
     "frozen": false,
     "read_only": false
    }
   },
   "outputs": [],
   "source": [
    "cps1[0]"
   ]
  },
  {
   "cell_type": "code",
   "execution_count": 205,
   "metadata": {
    "run_control": {
     "frozen": false,
     "read_only": false
    }
   },
   "outputs": [],
   "source": [
    "def traverseTree(tree):\n",
    "    #print(\"tree:\", tree)\n",
    "    for subtree in tree:\n",
    "        if type(subtree) == nltk.tree.ParentedTree:\n",
    "#             print(subtree)\n",
    "            traverseTree(subtree)\n",
    "        else:\n",
    "            print(subtree)"
   ]
  },
  {
   "cell_type": "code",
   "execution_count": 206,
   "metadata": {},
   "outputs": [
    {
     "name": "stdout",
     "output_type": "stream",
     "text": [
      "Europe\n",
      "is\n",
      "in\n",
      "the\n",
      "same\n",
      "trends\n",
      ".\n"
     ]
    }
   ],
   "source": [
    "traverseTree(parented_tree)"
   ]
  },
  {
   "cell_type": "code",
   "execution_count": null,
   "metadata": {
    "collapsed": true,
    "run_control": {
     "frozen": false,
     "read_only": false
    }
   },
   "outputs": [],
   "source": [
    "gp1 = tree.productions()[0]"
   ]
  },
  {
   "cell_type": "code",
   "execution_count": null,
   "metadata": {
    "collapsed": true,
    "run_control": {
     "frozen": false,
     "read_only": false
    }
   },
   "outputs": [],
   "source": [
    "# tree_to_dict(tree)"
   ]
  },
  {
   "cell_type": "code",
   "execution_count": null,
   "metadata": {
    "run_control": {
     "frozen": false,
     "read_only": false
    }
   },
   "outputs": [],
   "source": [
    "d = tree_to_dict(cps1)\n",
    "json.dumps(d , indent=4)"
   ]
  },
  {
   "cell_type": "markdown",
   "metadata": {},
   "source": [
    "### insert coref sample"
   ]
  },
  {
   "cell_type": "code",
   "execution_count": null,
   "metadata": {
    "collapsed": true,
    "run_control": {
     "frozen": false,
     "read_only": false
    }
   },
   "outputs": [],
   "source": [
    "c1 = ['Barney', 'Barney']\n",
    "c2 =  ['a large orange claw coming in through the doorway', 'it']\n",
    "c3 =  ['a large orange claw', 'the claw']"
   ]
  },
  {
   "cell_type": "code",
   "execution_count": null,
   "metadata": {
    "collapsed": true,
    "run_control": {
     "frozen": false,
     "read_only": false
    }
   },
   "outputs": [],
   "source": [
    "spacy."
   ]
  },
  {
   "cell_type": "markdown",
   "metadata": {
    "heading_collapsed": true
   },
   "source": [
    "## pos tagging"
   ]
  },
  {
   "cell_type": "code",
   "execution_count": null,
   "metadata": {
    "collapsed": true,
    "hidden": true,
    "run_control": {
     "frozen": false,
     "read_only": false
    }
   },
   "outputs": [],
   "source": [
    "import spacy\n",
    "nlp = spacy.load('en')"
   ]
  },
  {
   "cell_type": "code",
   "execution_count": null,
   "metadata": {
    "collapsed": true,
    "hidden": true,
    "run_control": {
     "frozen": false,
     "read_only": false
    }
   },
   "outputs": [],
   "source": [
    "test_doc = st3_df.iloc[0]['action_description']"
   ]
  },
  {
   "cell_type": "code",
   "execution_count": null,
   "metadata": {
    "hidden": true,
    "run_control": {
     "frozen": false,
     "read_only": false
    }
   },
   "outputs": [],
   "source": [
    "st3_df['action_description'][1]"
   ]
  },
  {
   "cell_type": "code",
   "execution_count": null,
   "metadata": {
    "hidden": true,
    "run_control": {
     "frozen": false,
     "read_only": false
    }
   },
   "outputs": [],
   "source": [
    "doc"
   ]
  },
  {
   "cell_type": "code",
   "execution_count": null,
   "metadata": {
    "hidden": true,
    "run_control": {
     "frozen": false,
     "read_only": false
    }
   },
   "outputs": [],
   "source": [
    "doc = nlp(test_doc)\n",
    "for word in doc:\n",
    "    print(word.text, word.lemma, word.lemma_, word.tag, word.tag_, word.pos, word.pos_)"
   ]
  },
  {
   "cell_type": "code",
   "execution_count": null,
   "metadata": {
    "collapsed": true,
    "hidden": true,
    "run_control": {
     "frozen": false,
     "read_only": false
    }
   },
   "outputs": [],
   "source": [
    "doc"
   ]
  },
  {
   "cell_type": "code",
   "execution_count": null,
   "metadata": {
    "collapsed": true,
    "hidden": true,
    "run_control": {
     "frozen": false,
     "read_only": false
    }
   },
   "outputs": [],
   "source": []
  },
  {
   "cell_type": "code",
   "execution_count": null,
   "metadata": {
    "collapsed": true,
    "hidden": true,
    "run_control": {
     "frozen": false,
     "read_only": false
    }
   },
   "outputs": [],
   "source": []
  },
  {
   "cell_type": "code",
   "execution_count": null,
   "metadata": {
    "collapsed": true,
    "hidden": true,
    "run_control": {
     "frozen": false,
     "read_only": false
    }
   },
   "outputs": [],
   "source": []
  },
  {
   "cell_type": "markdown",
   "metadata": {
    "heading_collapsed": true
   },
   "source": [
    "## np chunks"
   ]
  },
  {
   "cell_type": "code",
   "execution_count": null,
   "metadata": {
    "hidden": true,
    "run_control": {
     "frozen": false,
     "read_only": false
    }
   },
   "outputs": [],
   "source": [
    "for npc in doc.noun_chunks:\n",
    "    print(npc.text)"
   ]
  },
  {
   "cell_type": "code",
   "execution_count": null,
   "metadata": {
    "hidden": true,
    "run_control": {
     "frozen": false,
     "read_only": false
    }
   },
   "outputs": [],
   "source": []
  },
  {
   "cell_type": "code",
   "execution_count": null,
   "metadata": {
    "collapsed": true,
    "hidden": true,
    "run_control": {
     "frozen": false,
     "read_only": false
    }
   },
   "outputs": [],
   "source": [
    "# from spacy.symbols import *\n",
    "\n",
    "# np_labels = set([nsubj, nsubjpass, dobj, iobj, pobj]) # Probably others too\n",
    "# def iter_nps(doc):\n",
    "#     for word in doc:\n",
    "#         if word.dep in np_labels:\n",
    "#             yield word.subtree\n",
    "\n",
    "# [list(x)[0] for x in list(iter_nps(doc))]"
   ]
  },
  {
   "cell_type": "markdown",
   "metadata": {
    "heading_collapsed": true
   },
   "source": [
    "## const parse"
   ]
  },
  {
   "cell_type": "code",
   "execution_count": null,
   "metadata": {
    "collapsed": true,
    "hidden": true,
    "run_control": {
     "frozen": false,
     "read_only": false
    }
   },
   "outputs": [],
   "source": [
    "import os"
   ]
  },
  {
   "cell_type": "code",
   "execution_count": null,
   "metadata": {
    "collapsed": true,
    "hidden": true,
    "run_control": {
     "frozen": false,
     "read_only": false
    }
   },
   "outputs": [],
   "source": [
    "from nltk.parse.stanford import StanfordParser\n",
    "from nltk.draw.tree import TreeView"
   ]
  },
  {
   "cell_type": "code",
   "execution_count": null,
   "metadata": {
    "collapsed": true,
    "hidden": true,
    "run_control": {
     "frozen": false,
     "read_only": false
    }
   },
   "outputs": [],
   "source": [
    "core_nlp_base = '/Users/schwenk/wrk/animation_gan/build_dataset/parsing/stanford_core_nlp/stanford-corenlp-full-2017-06-09/'"
   ]
  },
  {
   "cell_type": "code",
   "execution_count": null,
   "metadata": {
    "collapsed": true,
    "hidden": true,
    "run_control": {
     "frozen": false,
     "read_only": false
    }
   },
   "outputs": [],
   "source": [
    "parser = StanfordParser(path_to_jar=core_nlp_base + 'stanford-corenlp-3.8.0.jar', path_to_models_jar=core_nlp_base + 'stanford-corenlp-3.8.0-models.jar')"
   ]
  },
  {
   "cell_type": "code",
   "execution_count": null,
   "metadata": {
    "collapsed": true,
    "hidden": true,
    "run_control": {
     "frozen": false,
     "read_only": false
    }
   },
   "outputs": [],
   "source": [
    "sentences = parser.raw_parse_sents((\"Hello, My name is Melroy.\", \"What is your name?\"))"
   ]
  },
  {
   "cell_type": "code",
   "execution_count": null,
   "metadata": {
    "collapsed": true,
    "hidden": true,
    "run_control": {
     "frozen": false,
     "read_only": false
    }
   },
   "outputs": [],
   "source": [
    "TreeView(sentences)._cframe.print_to_file('tree.ps')"
   ]
  },
  {
   "cell_type": "code",
   "execution_count": null,
   "metadata": {
    "collapsed": true,
    "hidden": true,
    "run_control": {
     "frozen": false,
     "read_only": false
    }
   },
   "outputs": [],
   "source": [
    "psent = [list(i)[0] for i in sentences]"
   ]
  },
  {
   "cell_type": "code",
   "execution_count": null,
   "metadata": {
    "collapsed": true,
    "hidden": true,
    "run_control": {
     "frozen": false,
     "read_only": false
    }
   },
   "outputs": [],
   "source": [
    "first_sent = psent[0][0]"
   ]
  },
  {
   "cell_type": "code",
   "execution_count": null,
   "metadata": {
    "collapsed": true,
    "hidden": true,
    "run_control": {
     "frozen": false,
     "read_only": false
    }
   },
   "outputs": [],
   "source": [
    "first_sent.draw()"
   ]
  },
  {
   "cell_type": "code",
   "execution_count": null,
   "metadata": {
    "hidden": true,
    "run_control": {
     "frozen": false,
     "read_only": false
    }
   },
   "outputs": [],
   "source": [
    "psent[1][0]"
   ]
  },
  {
   "cell_type": "code",
   "execution_count": null,
   "metadata": {
    "hidden": true,
    "run_control": {
     "frozen": false,
     "read_only": false
    }
   },
   "outputs": [],
   "source": [
    "TreeView(first_sent)._cframe"
   ]
  },
  {
   "cell_type": "code",
   "execution_count": null,
   "metadata": {
    "collapsed": true,
    "hidden": true,
    "run_control": {
     "frozen": false,
     "read_only": false
    }
   },
   "outputs": [],
   "source": [
    "TreeView(first_sent)._cframe.\n",
    "_ = os.system('convert tree.ps tree.png')"
   ]
  },
  {
   "cell_type": "code",
   "execution_count": null,
   "metadata": {
    "collapsed": true,
    "hidden": true,
    "run_control": {
     "frozen": false,
     "read_only": false
    }
   },
   "outputs": [],
   "source": [
    "# GUI\n",
    "for line in sentences:\n",
    "    for sentence in line:\n",
    "        sentence.draw()._cframe.print_to_file('tree.ps')\n",
    "        _ = os.system('convert tree.ps tree.png')"
   ]
  },
  {
   "cell_type": "code",
   "execution_count": null,
   "metadata": {
    "collapsed": true,
    "hidden": true,
    "run_control": {
     "frozen": false,
     "read_only": false
    }
   },
   "outputs": [],
   "source": []
  },
  {
   "cell_type": "code",
   "execution_count": null,
   "metadata": {
    "collapsed": true,
    "hidden": true,
    "run_control": {
     "frozen": false,
     "read_only": false
    }
   },
   "outputs": [],
   "source": [
    "TreeView(sentences)._cframe.print_to_file('tree.ps')"
   ]
  },
  {
   "cell_type": "markdown",
   "metadata": {
    "heading_collapsed": true,
    "hidden": true
   },
   "source": [
    "### hide"
   ]
  },
  {
   "cell_type": "code",
   "execution_count": null,
   "metadata": {
    "collapsed": true,
    "hidden": true,
    "run_control": {
     "frozen": false,
     "read_only": false
    }
   },
   "outputs": [],
   "source": [
    "from corenlp import CoreNLPClient"
   ]
  },
  {
   "cell_type": "code",
   "execution_count": null,
   "metadata": {
    "hidden": true,
    "run_control": {
     "frozen": false,
     "read_only": false
    }
   },
   "outputs": [],
   "source": [
    "%env JAVANLP_HOME=/Users/schwenk/wrk/animation_gan/build_dataset/parsing/stanford_core_nlp/stanford-corenlp-full-2017-06-09"
   ]
  },
  {
   "cell_type": "code",
   "execution_count": null,
   "metadata": {
    "collapsed": true,
    "hidden": true,
    "run_control": {
     "frozen": false,
     "read_only": false
    }
   },
   "outputs": [],
   "source": []
  },
  {
   "cell_type": "code",
   "execution_count": null,
   "metadata": {
    "collapsed": true,
    "hidden": true,
    "run_control": {
     "frozen": false,
     "read_only": false
    }
   },
   "outputs": [],
   "source": [
    "text = \"Chris wrote a simple sentence that he parsed with Stanford CoreNLP.\""
   ]
  },
  {
   "cell_type": "code",
   "execution_count": null,
   "metadata": {
    "hidden": true,
    "run_control": {
     "frozen": false,
     "read_only": false
    }
   },
   "outputs": [],
   "source": [
    "with CoreNLPClient(annotators=\"tokenize ssplit\".split()) as client:\n",
    "    ann = client.annotate(text)"
   ]
  },
  {
   "cell_type": "code",
   "execution_count": null,
   "metadata": {
    "collapsed": true,
    "hidden": true,
    "run_control": {
     "frozen": false,
     "read_only": false
    }
   },
   "outputs": [],
   "source": []
  },
  {
   "cell_type": "code",
   "execution_count": null,
   "metadata": {
    "hidden": true,
    "run_control": {
     "frozen": false,
     "read_only": false
    }
   },
   "outputs": [],
   "source": [
    "! echo $JAVANLP_HOME"
   ]
  },
  {
   "cell_type": "markdown",
   "metadata": {},
   "source": [
    "## coref"
   ]
  },
  {
   "cell_type": "code",
   "execution_count": null,
   "metadata": {
    "collapsed": true,
    "run_control": {
     "frozen": false,
     "read_only": false
    }
   },
   "outputs": [],
   "source": [
    "_ = \"\"\"\n",
    "Predicted cluster: ['Barney', 'Barney']\n",
    "Predicted cluster: ['a large orange claw coming in through the doorway', 'it']\n",
    "Predicted cluster: ['a large orange claw', 'the claw']\n",
    "\"\"\""
   ]
  }
 ],
 "metadata": {
  "kernelspec": {
   "display_name": "Python 3",
   "language": "python",
   "name": "python3"
  },
  "language_info": {
   "codemirror_mode": {
    "name": "ipython",
    "version": 3
   },
   "file_extension": ".py",
   "mimetype": "text/x-python",
   "name": "python",
   "nbconvert_exporter": "python",
   "pygments_lexer": "ipython3",
   "version": "3.6.2"
  }
 },
 "nbformat": 4,
 "nbformat_minor": 1
}
